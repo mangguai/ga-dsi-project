{
 "cells": [
  {
   "cell_type": "markdown",
   "metadata": {},
   "source": [
    "<img src=\"http://imgur.com/1ZcRyrc.png\" style=\"float: left; margin: 20px; height: 55px\">\n",
    "\n",
    "# Project 3 - Classifying Grab's Customer Feedback into Ride Hailing and Delivery\n",
    "\n",
    "> Authors: Irfan Muzafar, Ng Wei, Lim Zheng Gang\n",
    "---\n",
    "\n",
    "**Problem Statement:**  \n",
    "How can we distinguish between customer feedback related to Grab's ride-hailing and delivery fast and accurately? \n",
    "\n",
    "**Target Audience:**\n",
    "- Grab Product Team\n",
    "\n",
    "**Summary:**   \n",
    "- Product Manager is overwhelmed by vast user reviews; struggles to classify reviews between delivery and ride hailing.\n",
    "- Develop a NLP model to differentiate ride-hailing comments from delivery on Grab's Google Play Store.\n",
    "- Training data: Uber and Uber Eats subreddit.\n",
    "- Other data sources: App store reviews from Grab and Grab Driver applications as well as those from competitors:  \n",
    "  - foodpanda  \n",
    "  - Deliveroo  \n",
    "  - Gojek  \n",
    "\n",
    "There are a total of three notebooks for this project:  \n",
    " 1. `01_Data_Collection.ipynb`   \n",
    " 2. `02_Data_Cleaning_EDA.ipynb`   \n",
    " 3. `03_Modelling_Evaluation_Conclusion.ipynb`   \n",
    "\n",
    "---\n",
    "**This Notebook**  \n",
    "  \n",
    "We will \n",
    "- Fit our data into various models and evaluate the performance of each model. \n",
    "- Select our preferred model.\n",
    "- Evaluate our selected model.\n",
    "- Test classifer on the actual Grab app store reviews. \n",
    "- Conclusion and recommendation"
   ]
  },
  {
   "cell_type": "markdown",
   "metadata": {},
   "source": [
    "### 1. Import Libraries, read CSV"
   ]
  },
  {
   "cell_type": "code",
   "execution_count": 56,
   "metadata": {},
   "outputs": [],
   "source": [
    "import numpy as np\n",
    "import pandas as pd\n",
    "import matplotlib.pyplot as plt\n",
    "import nltk\n",
    "\n",
    "from sklearn.model_selection import train_test_split, GridSearchCV, RandomizedSearchCV\n",
    "from sklearn.metrics import confusion_matrix, ConfusionMatrixDisplay\n",
    "from sklearn.feature_extraction.text import CountVectorizer, TfidfVectorizer\n",
    "from sklearn.naive_bayes import MultinomialNB\n",
    "from sklearn.linear_model import LogisticRegression\n",
    "from sklearn.ensemble import RandomForestClassifier\n",
    "from sklearn.neighbors import KNeighborsClassifier\n",
    "from sklearn.pipeline import Pipeline\n",
    "from nltk.stem import WordNetLemmatizer\n",
    "from nltk.corpus import wordnet\n",
    "from nltk.tokenize import word_tokenize\n",
    "from scipy.stats import randint\n",
    "from IPython.display import Image\n",
    "from joblib import dump\n",
    "\n"
   ]
  },
  {
   "cell_type": "code",
   "execution_count": 2,
   "metadata": {},
   "outputs": [],
   "source": [
    "df = pd.read_csv(\"../datasets/cleaned_data.csv\")"
   ]
  },
  {
   "cell_type": "code",
   "execution_count": 3,
   "metadata": {},
   "outputs": [
    {
     "data": {
      "text/html": [
       "<div>\n",
       "<style scoped>\n",
       "    .dataframe tbody tr th:only-of-type {\n",
       "        vertical-align: middle;\n",
       "    }\n",
       "\n",
       "    .dataframe tbody tr th {\n",
       "        vertical-align: top;\n",
       "    }\n",
       "\n",
       "    .dataframe thead th {\n",
       "        text-align: right;\n",
       "    }\n",
       "</style>\n",
       "<table border=\"1\" class=\"dataframe\">\n",
       "  <thead>\n",
       "    <tr style=\"text-align: right;\">\n",
       "      <th></th>\n",
       "      <th>body</th>\n",
       "      <th>ubereats</th>\n",
       "    </tr>\n",
       "  </thead>\n",
       "  <tbody>\n",
       "    <tr>\n",
       "      <th>0</th>\n",
       "      <td>would you let this woman in your car for an ub...</td>\n",
       "      <td>0</td>\n",
       "    </tr>\n",
       "    <tr>\n",
       "      <th>1</th>\n",
       "      <td>a raccoon with a big shirt on ? i don ’ t see ...</td>\n",
       "      <td>0</td>\n",
       "    </tr>\n",
       "    <tr>\n",
       "      <th>2</th>\n",
       "      <td>hell yeah . love those little critter . had on...</td>\n",
       "      <td>0</td>\n",
       "    </tr>\n",
       "    <tr>\n",
       "      <th>3</th>\n",
       "      <td>i mean the biggie shirt sell it for me . i nev...</td>\n",
       "      <td>0</td>\n",
       "    </tr>\n",
       "    <tr>\n",
       "      <th>4</th>\n",
       "      <td>well , he/she do have a shirt on .</td>\n",
       "      <td>0</td>\n",
       "    </tr>\n",
       "  </tbody>\n",
       "</table>\n",
       "</div>"
      ],
      "text/plain": [
       "                                                body  ubereats\n",
       "0  would you let this woman in your car for an ub...         0\n",
       "1  a raccoon with a big shirt on ? i don ’ t see ...         0\n",
       "2  hell yeah . love those little critter . had on...         0\n",
       "3  i mean the biggie shirt sell it for me . i nev...         0\n",
       "4                 well , he/she do have a shirt on .         0"
      ]
     },
     "execution_count": 3,
     "metadata": {},
     "output_type": "execute_result"
    }
   ],
   "source": [
    "df.head()"
   ]
  },
  {
   "cell_type": "markdown",
   "metadata": {},
   "source": [
    "### 2. Modelling"
   ]
  },
  {
   "cell_type": "markdown",
   "metadata": {},
   "source": [
    "#### Success Metric"
   ]
  },
  {
   "cell_type": "markdown",
   "metadata": {},
   "source": [
    "Our classifier is designed to categorize reviews across different types of services, where both false positives and false negatives are considered equally detrimental. Therefore, we have selected accuracy as the primary metric to optimize in our model. We will also take computational intensiveness of a model into consideration in the event of two models having an effective accuracy score. "
   ]
  },
  {
   "cell_type": "markdown",
   "metadata": {},
   "source": [
    "We define the below function for the generation of classification metrics in this notebook."
   ]
  },
  {
   "cell_type": "code",
   "execution_count": 4,
   "metadata": {},
   "outputs": [],
   "source": [
    "def calculate_metrics(cm):\n",
    "    tn, fp, fn, tp = cm.ravel()\n",
    "    sensitivity = tp / (tp + fn)\n",
    "    specificity = tn / (tn + fp)\n",
    "    precision = tp / (tp + fp)\n",
    "    accuracy = (tp + tn) / (tp + tn + fp + fn)\n",
    "    return sensitivity, specificity, precision, accuracy"
   ]
  },
  {
   "cell_type": "markdown",
   "metadata": {},
   "source": [
    "We've selected three classifiers for evaluation:\n",
    "\n",
    "- Multinomial Naive Bayes  \n",
    "- K Nearest Neighbor Classifier\n",
    "- Logistic Regression  \n",
    "\n",
    "For each classifier, we'll preprocess our training data using both the Count Vectorizer and TF-IDF Vectorizer to determine which model yields the best performance. Furthermore, to assess the effectiveness of hyperparameter tuning, we'll initially run each model with default settings to establish a baseline, allowing us to measure the tuning's impact."
   ]
  },
  {
   "cell_type": "markdown",
   "metadata": {},
   "source": [
    "The below concepts are used throughout all three model.\n",
    "\n",
    "**1. CountVectorizer**  \n",
    "CountVectorizer transforms text into a frequency count vector, creating a matrix where each unique word is a feature and counts represent their occurrences in documents. We use it to preprocess our data before fitting it into the respective models.\n",
    "\n",
    "**2. TF-IDF Vectorizer**  \n",
    "TF-IDF Vectorizer measures word importance by considering their frequency in a document relative to their frequency across all documents, helping differentiate meaningful words. We use it to preprocess our data before fitting it into the respective models.\n",
    "\n",
    "**3. Pipeline**  \n",
    "A Pipeline streamlines the process of applying a series of data transformations followed by the application of a model, ensuring consistency in data handling.\n",
    "\n",
    "**4. Cross Validation**  \n",
    "Cross Validation evaluates a model’s performance by dividing the dataset into several subsets, training on some and testing on others, to ensure the model's generalizability. We use cv=5 throughout this project. "
   ]
  },
  {
   "cell_type": "markdown",
   "metadata": {},
   "source": [
    "#### 2.1. Train-Test Split and Baseline Model"
   ]
  },
  {
   "cell_type": "markdown",
   "metadata": {},
   "source": [
    "##### 2.1.1. Train-Test Split"
   ]
  },
  {
   "cell_type": "markdown",
   "metadata": {},
   "source": [
    "Splits the dataset into training and testing sets for a classification task. It selects the \"body\" column as the feature variable and the \"ubereats\" column as the target variable. With a test size of 25%, it ensures class distribution balance using stratify. Setting a random state ensures reproducibility. This process readies the data for training and evaluating a classification model."
   ]
  },
  {
   "cell_type": "code",
   "execution_count": 5,
   "metadata": {},
   "outputs": [],
   "source": [
    "X = df[\"body\"]\n",
    "y = df[\"ubereats\"]\n",
    "\n",
    "X_train, X_test, y_train, y_test = train_test_split(X, y, test_size=0.25, stratify=y, random_state=42)"
   ]
  },
  {
   "cell_type": "markdown",
   "metadata": {},
   "source": [
    "##### 2.1.2. Baseline Model"
   ]
  },
  {
   "cell_type": "markdown",
   "metadata": {},
   "source": [
    "Assuming a basic model that only predicts the most common class, we define this approach as our baseline accuracy for the classifier. This simplistic method sets a minimum performance threshold, against which we'll compare more complex models."
   ]
  },
  {
   "cell_type": "code",
   "execution_count": 6,
   "metadata": {},
   "outputs": [
    {
     "data": {
      "text/plain": [
       "ubereats\n",
       "1    0.523674\n",
       "0    0.476326\n",
       "Name: proportion, dtype: float64"
      ]
     },
     "execution_count": 6,
     "metadata": {},
     "output_type": "execute_result"
    }
   ],
   "source": [
    "y_test.value_counts(normalize=True)"
   ]
  },
  {
   "cell_type": "markdown",
   "metadata": {},
   "source": [
    "Given the approach of predicting the most common class, our baseline model achieves an accuracy of 52%. This figure serves as the initial performance benchmark for our classifier."
   ]
  },
  {
   "cell_type": "markdown",
   "metadata": {},
   "source": [
    "#### 2.2. Multinomial Naive Bayes"
   ]
  },
  {
   "cell_type": "markdown",
   "metadata": {},
   "source": [
    "\n",
    "Multinomial Naive Bayes calculates the probability of each category based on the frequency of words present in the text. It is particularly suited for discrete features like word counts or frequencies in document classification tasks. The Multinomial Naive Bayes model is chosen over the Bernoulli and Gaussian variants because it handles discrete count data effectively."
   ]
  },
  {
   "cell_type": "markdown",
   "metadata": {},
   "source": [
    "##### 2.2.1 Pipeline: Countvectorizer and Multinomial Naive Bayes"
   ]
  },
  {
   "cell_type": "markdown",
   "metadata": {},
   "source": [
    "Without hypertuning as baseline for Countvectorizer and Multinomial Naive Bayes model"
   ]
  },
  {
   "cell_type": "code",
   "execution_count": 7,
   "metadata": {},
   "outputs": [
    {
     "name": "stdout",
     "output_type": "stream",
     "text": [
      "train score: 0.8110326549180166\n",
      "test score: 0.7678295953482853\n"
     ]
    }
   ],
   "source": [
    "# pipeline creation\n",
    "\n",
    "pipe_cvnb_base = Pipeline([\n",
    "    ('cvec', CountVectorizer(stop_words = \"english\")),\n",
    "    ('nb', MultinomialNB())\n",
    "])\n",
    "\n",
    "# fit training data to pipeline\n",
    "\n",
    "pipe_cvnb_base.fit(X_train, y_train)\n",
    "\n",
    "# print train score and test score. The score printed here is the accuracy score\n",
    "\n",
    "print(f\"train score: {pipe_cvnb_base.score(X_train, y_train)}\")\n",
    "print(f\"test score: {pipe_cvnb_base.score(X_test, y_test)}\")"
   ]
  },
  {
   "cell_type": "markdown",
   "metadata": {},
   "source": [
    "The Count Vectorizer Multinomial Naive Bayes model, prior to hyperparameter tuning, achieves a training score of 0.81 and a testing score of 0.76. These results will serve as the baseline for comparing the performance of the model after hyperparameter tuning."
   ]
  },
  {
   "cell_type": "markdown",
   "metadata": {},
   "source": [
    "Countvectorizer Multinomial Naive Bayes Model with hypertuning. We use gridsearch to search for the best parameters that give us the best performing model."
   ]
  },
  {
   "cell_type": "code",
   "execution_count": 8,
   "metadata": {},
   "outputs": [
    {
     "name": "stdout",
     "output_type": "stream",
     "text": [
      "best param: {'cvec__max_df': 0.85, 'cvec__max_features': None, 'cvec__min_df': 2, 'cvec__ngram_range': (1, 2), 'nb__alpha': 1}\n",
      "best score: 0.7691806705067422\n",
      "train score: 0.8562075990427026\n",
      "test score: 0.7766108935564258\n"
     ]
    }
   ],
   "source": [
    "# pipeline creation\n",
    "\n",
    "pipe_cvnb_gridsearch = Pipeline([\n",
    "    ('cvec', CountVectorizer(stop_words = \"english\")),\n",
    "    ('nb', MultinomialNB())\n",
    "])\n",
    "\n",
    "# define params for gridsearch and search for the best params\n",
    "\n",
    "pipe_cvnb_gridsearch_params = {\n",
    "    'cvec__max_features': [4000,5000,6000, None],\n",
    "    'cvec__min_df': [2, 3],\n",
    "    'cvec__max_df': [.85,0.9],\n",
    "    'cvec__ngram_range': [(1,1), (1,2)],\n",
    "    'nb__alpha': [0.1, 0.5, 1]\n",
    "}\n",
    "\n",
    "cvnb_gridsearch = GridSearchCV(pipe_cvnb_gridsearch, \n",
    "                  param_grid=pipe_cvnb_gridsearch_params, \n",
    "                  cv=5)\n",
    "\n",
    "# fit training data in model\n",
    "\n",
    "cvnb_gridsearch.fit(X_train, y_train)\n",
    "\n",
    "print(f\"best param: {cvnb_gridsearch.best_params_}\")\n",
    "print(f\"best score: {cvnb_gridsearch.best_score_}\")\n",
    "print(f\"train score: {cvnb_gridsearch.score(X_train, y_train)}\")\n",
    "print(f\"test score: {cvnb_gridsearch.score(X_test, y_test)}\")"
   ]
  },
  {
   "cell_type": "markdown",
   "metadata": {},
   "source": [
    "Generate confusion matrix and classification evaluation metrics"
   ]
  },
  {
   "cell_type": "code",
   "execution_count": 9,
   "metadata": {},
   "outputs": [
    {
     "name": "stdout",
     "output_type": "stream",
     "text": [
      "Sensitivity (True Positive Rate): 0.8183775209607976\n",
      "Specificity (True Negative Rate): 0.7306925759840558\n",
      "Precision: 0.7696323921150773\n",
      "Accuracy: 0.7766108935564258\n"
     ]
    },
    {
     "data": {
      "image/png": "[encoded data removed]",
      "text/plain": [
       "<Figure size 640x480 with 2 Axes>"
      ]
     },
     "metadata": {},
     "output_type": "display_data"
    }
   ],
   "source": [
    "\n",
    "class_names = ['delivery', 'ride hailing'] \n",
    "preds = cvnb_gridsearch.predict(X_test)\n",
    "\n",
    "# Save confusion matrix values\n",
    "tn, fp, fn, tp = confusion_matrix(y_test, preds).ravel()\n",
    "\n",
    "cm = confusion_matrix(y_test, preds)\n",
    "\n",
    "disp =ConfusionMatrixDisplay(confusion_matrix=cm, \n",
    "                             display_labels=class_names )\n",
    "\n",
    "ax = disp.plot().ax_\n",
    "\n",
    "ax.set_ylabel('Actual', fontsize=12)\n",
    "ax.set_xlabel('Predicted', fontsize=12)\n",
    "\n",
    "sensitivity, specificity, precision, accuracy = calculate_metrics(cm)\n",
    "\n",
    "print(\"Sensitivity (True Positive Rate):\", sensitivity)\n",
    "print(\"Specificity (True Negative Rate):\", specificity)\n",
    "print(\"Precision:\", precision)\n",
    "print(\"Accuracy:\", accuracy)"
   ]
  },
  {
   "cell_type": "markdown",
   "metadata": {},
   "source": [
    "The model has training and test scores of 85.6% and 77.7%, respectively, indicating mild overfitting. High sensitivity (81.8%) and reasonable precision (76.9%) highlight its strength in identifying positives, though lower specificity (73.1%) suggests a need for better recognition of negatives. Overall accuracy stands at 77.7%.\n",
    "\n",
    "Comparing the hypertuned model with its counterpart before tuning, we see an improvement of train score of 4% and improvement of test score of 1%. "
   ]
  },
  {
   "cell_type": "markdown",
   "metadata": {},
   "source": [
    "##### 2.2.2 Pipeline: TF-IDF Vectorizer and Multinomial Naive Bayes"
   ]
  },
  {
   "cell_type": "markdown",
   "metadata": {},
   "source": [
    "Without hypertuning as baseline for TF-IDF and Multinomial Naive Bayes model"
   ]
  },
  {
   "cell_type": "code",
   "execution_count": 10,
   "metadata": {},
   "outputs": [
    {
     "name": "stdout",
     "output_type": "stream",
     "text": [
      "train score: 0.8222274965881445\n",
      "test score: 0.7666429334282663\n"
     ]
    }
   ],
   "source": [
    "pipe_tvnb_base = Pipeline([\n",
    "    ('tvec', TfidfVectorizer(stop_words = \"english\")),\n",
    "    ('nb', MultinomialNB())\n",
    "])\n",
    "\n",
    "pipe_tvnb_base.fit(X_train, y_train)\n",
    "\n",
    "print(f\"train score: {pipe_tvnb_base.score(X_train, y_train)}\")\n",
    "print(f\"test score: {pipe_tvnb_base.score(X_test, y_test)}\")"
   ]
  },
  {
   "cell_type": "markdown",
   "metadata": {},
   "source": [
    "The TF-IDF Vectorizer Multinomial Naive Bayes model, prior to hyperparameter tuning, achieves a training score of 0.82 and a testing score of 0.77. These results will serve as the baseline for comparing the performance of the model after hyperparameter tuning."
   ]
  },
  {
   "cell_type": "markdown",
   "metadata": {},
   "source": [
    "TF-IDF Multinomial Naive Bayes Model with hypertuning. We use gridsearch to search for the best parameters that give us the best performing model."
   ]
  },
  {
   "cell_type": "code",
   "execution_count": 11,
   "metadata": {},
   "outputs": [
    {
     "name": "stdout",
     "output_type": "stream",
     "text": [
      "best param: {'nb__alpha': 1, 'tvnb__max_features': None, 'tvnb__ngram_range': (1, 2)}\n",
      "best score: 0.7734132947854762\n",
      "train score: 0.9438477817994818\n",
      "test score: 0.781060875756497\n"
     ]
    }
   ],
   "source": [
    "pipe_tvnb_gridsearch = Pipeline([\n",
    "    ('tvnb', TfidfVectorizer(stop_words = \"english\")),\n",
    "    ('nb', MultinomialNB())\n",
    "])\n",
    "\n",
    "pipe_tvnb_gridsearch_params = {\n",
    "    'tvnb__max_features': [2_000, 3_000, 4_000, 5_000, None],\n",
    "    'tvnb__ngram_range': [(1,1), (1,2)],\n",
    "    'nb__alpha': [0.1, 0.5, 1]\n",
    "}\n",
    "\n",
    "tvnb_gridsearch = GridSearchCV(pipe_tvnb_gridsearch,\n",
    "                        param_grid = pipe_tvnb_gridsearch_params,\n",
    "                        cv=5) \n",
    "\n",
    "tvnb_gridsearch.fit(X_train, y_train)\n",
    "\n",
    "print(f\"best param: {tvnb_gridsearch.best_params_}\")\n",
    "print(f\"best score: {tvnb_gridsearch.best_score_}\")\n",
    "print(f\"train score: {tvnb_gridsearch.score(X_train, y_train)}\")\n",
    "print(f\"test score: {tvnb_gridsearch.score(X_test, y_test)}\")"
   ]
  },
  {
   "cell_type": "markdown",
   "metadata": {},
   "source": [
    "Generate confusion matrix and classification evaluation metrics"
   ]
  },
  {
   "cell_type": "code",
   "execution_count": 12,
   "metadata": {},
   "outputs": [
    {
     "name": "stdout",
     "output_type": "stream",
     "text": [
      "Sensitivity (True Positive Rate): 0.8191706322229776\n",
      "Specificity (True Negative Rate): 0.7391629297458894\n",
      "Precision: 0.7754182754182755\n",
      "Accuracy: 0.781060875756497\n"
     ]
    },
    {
     "data": {
      "image/png": "[encoded data removed]",
      "text/plain": [
       "<Figure size 640x480 with 2 Axes>"
      ]
     },
     "metadata": {},
     "output_type": "display_data"
    }
   ],
   "source": [
    "preds = tvnb_gridsearch.predict(X_test)\n",
    "\n",
    "tn, fp, fn, tp = confusion_matrix(y_test, preds).ravel()\n",
    "\n",
    "cm = confusion_matrix(y_test, preds)\n",
    "\n",
    "disp =ConfusionMatrixDisplay(confusion_matrix=cm, \n",
    "                             display_labels=tvnb_gridsearch.best_estimator_.classes_)\n",
    "disp.plot()\n",
    "\n",
    "sensitivity, specificity, precision, accuracy = calculate_metrics(cm)\n",
    "\n",
    "print(\"Sensitivity (True Positive Rate):\", sensitivity)\n",
    "print(\"Specificity (True Negative Rate):\", specificity)\n",
    "print(\"Precision:\", precision)\n",
    "print(\"Accuracy:\", accuracy)\n"
   ]
  },
  {
   "cell_type": "markdown",
   "metadata": {},
   "source": [
    "\n",
    "The model's high training score (94.3%) versus its test score (78.1%) suggests overfitting, as it performs less effectively on unseen data. Despite good sensitivity (81.9%) and precision (77.5%), its relatively lower specificity (73.9%) indicates room for improvement in identifying true negatives.\n",
    "\n",
    "Comparing the hypertuned model with its counterpart before tuning, we see an improvement of train score of 12% and improvement of test score of 2%. However, due to the severe signs of overfitting of this model. We will not consider this model especially since we expect our use case to deal with unseen data. We will reiterate this point again when we are doing evaluation."
   ]
  },
  {
   "cell_type": "markdown",
   "metadata": {},
   "source": [
    "#### 2.3. KNeighbours Classifier"
   ]
  },
  {
   "cell_type": "markdown",
   "metadata": {},
   "source": [
    "\n",
    "K-Nearest Neighbors (KNN) is a instance-based algorithm where the class of a sample is determined by the majority class among its k nearest neighbors in the feature space. It is versatile, used for both classification and regression tasks, but sensitive to the scale of the data and the choice of k."
   ]
  },
  {
   "cell_type": "markdown",
   "metadata": {},
   "source": [
    "##### 2.3.1 Pipeline: TF-IDF Vectorize and KNeighbours Classifier"
   ]
  },
  {
   "cell_type": "markdown",
   "metadata": {},
   "source": [
    "Baseline for model without hypertuning"
   ]
  },
  {
   "cell_type": "code",
   "execution_count": 13,
   "metadata": {},
   "outputs": [
    {
     "name": "stdout",
     "output_type": "stream",
     "text": [
      "train score: 0.7266362072034652\n",
      "test score: 0.5595110952889522\n"
     ]
    }
   ],
   "source": [
    "pipe_tvkn_base = Pipeline([\n",
    "    ('tvec', TfidfVectorizer(stop_words = \"english\")),\n",
    "    ('kn', KNeighborsClassifier())\n",
    "])\n",
    "\n",
    "pipe_tvkn_base.fit(X_train, y_train)\n",
    "\n",
    "print(f\"train score: {pipe_tvkn_base.score(X_train, y_train)}\")\n",
    "print(f\"test score: {pipe_tvkn_base.score(X_test, y_test)}\")\n",
    "\n",
    "#average run time : 2 mins "
   ]
  },
  {
   "cell_type": "markdown",
   "metadata": {},
   "source": [
    "The TF-IDF Vectorizer KNeighbours model, prior to hyperparameter tuning, achieves a training score of 0.72 and a testing score of 0.55. These results will serve as the baseline for comparing the performance of the model after hyperparameter tuning."
   ]
  },
  {
   "cell_type": "markdown",
   "metadata": {},
   "source": [
    "Model with hypertuning. We use gridsearch to search for the best parameters that give us the best performing model."
   ]
  },
  {
   "cell_type": "code",
   "execution_count": 14,
   "metadata": {},
   "outputs": [
    {
     "name": "stdout",
     "output_type": "stream",
     "text": [
      "best param: {'kn__n_neighbors': 31, 'kn__p': 2, 'kn__weights': 'uniform', 'tvec__max_features': 1000, 'tvec__ngram_range': (1, 2)}\n",
      "best score: 0.5734884768781713\n",
      "train score: 0.6121758737316798\n",
      "test score: 0.5757090304972113\n"
     ]
    }
   ],
   "source": [
    "pipe_tvkn_gridsearch = Pipeline([\n",
    "    ('tvec', TfidfVectorizer(stop_words = \"english\")),\n",
    "    ('kn', KNeighborsClassifier())\n",
    "])\n",
    "\n",
    "pipe_tvkn_gridsearch_params = {\n",
    "    'tvec__max_features': [1000, 3_000, 5_000, None],\n",
    "    'tvec__ngram_range': [(1,1), (1,2)],\n",
    "    'kn__n_neighbors': [31,41,51], # select an odd number to prevent ties\n",
    "    'kn__weights': [\"distance\",\"uniform\"],\n",
    "    'kn__p': [1,2]\n",
    "\n",
    "}\n",
    "\n",
    "tvkn_gridsearch = GridSearchCV(pipe_tvkn_gridsearch,\n",
    "                  param_grid=pipe_tvkn_gridsearch_params,\n",
    "                  cv=5)\n",
    "\n",
    "tvkn_gridsearch.fit(X_train, y_train)\n",
    "\n",
    "print(f\"best param: {tvkn_gridsearch.best_params_}\")\n",
    "print(f\"best score: {tvkn_gridsearch.best_score_}\")\n",
    "print(f\"train score: {tvkn_gridsearch.score(X_train, y_train)}\")\n",
    "print(f\"test score: {tvkn_gridsearch.score(X_test, y_test)}\")\n",
    "\n",
    "#average run time : 20 mins "
   ]
  },
  {
   "cell_type": "markdown",
   "metadata": {},
   "source": [
    "Generate confusion matrix and classification evaluation metrics"
   ]
  },
  {
   "cell_type": "code",
   "execution_count": 15,
   "metadata": {},
   "outputs": [
    {
     "name": "stdout",
     "output_type": "stream",
     "text": [
      "Sensitivity (True Positive Rate): 0.8642646725583504\n",
      "Specificity (True Negative Rate): 0.2584703537618336\n",
      "Precision: 0.5616670348280687\n",
      "Accuracy: 0.5757090304972113\n"
     ]
    },
    {
     "data": {
      "image/png": "[encoded data removed]",
      "text/plain": [
       "<Figure size 640x480 with 2 Axes>"
      ]
     },
     "metadata": {},
     "output_type": "display_data"
    }
   ],
   "source": [
    "preds = tvkn_gridsearch.predict(X_test)\n",
    "\n",
    "tn, fp, fn, tp = confusion_matrix(y_test, preds).ravel()\n",
    "\n",
    "cm = confusion_matrix(y_test, preds)\n",
    "\n",
    "disp =ConfusionMatrixDisplay(confusion_matrix=cm, \n",
    "                             display_labels=tvkn_gridsearch.best_estimator_.classes_)\n",
    "disp.plot()\n",
    "\n",
    "sensitivity, specificity, precision, accuracy = calculate_metrics(cm)\n",
    "\n",
    "print(\"Sensitivity (True Positive Rate):\", sensitivity)\n",
    "print(\"Specificity (True Negative Rate):\", specificity)\n",
    "print(\"Precision:\", precision)\n",
    "print(\"Accuracy:\", accuracy)"
   ]
  },
  {
   "cell_type": "markdown",
   "metadata": {},
   "source": [
    "With a training accuracy of 61.2% and a testing accuracy of 57.6%, the model exhibits a slight overfitting, indicating a diminished ability to generalize to unseen data. The high sensitivity of 86.4% underscores the model's proficiency in identifying true positives, while the notably low specificity of 25.8% and modest precision of 56.2% reveal difficulties in accurately recognizing true negatives and a substantial rate of false positives.\n",
    "\n",
    "The overall accuracy standing at 57.6% suggests limited utility in practical applications, highlighting the necessity for modifications to the model to enhance its generalization capabilities and specificity.\n",
    "\n",
    "Despite the challenges presented by the current model's performance, the insights derived from these metrics serve as a critical guide for future adjustments and iterations to improve its effectiveness in real-world settings.\n",
    "\n",
    "Comparing the hypertuned model with its counterpart before tuning, we do not see an improvement in train score but an improvement in test score of 1%. We will compare the accuracy of this model with the rest in the evaluation section to determine the best model. "
   ]
  },
  {
   "cell_type": "markdown",
   "metadata": {},
   "source": [
    "##### 2.3.2 Pipeline: CountVectorizer and KNeighbours Classifier"
   ]
  },
  {
   "cell_type": "markdown",
   "metadata": {},
   "source": [
    "Baseline for model without hypertuning"
   ]
  },
  {
   "cell_type": "code",
   "execution_count": 16,
   "metadata": {},
   "outputs": [
    {
     "name": "stdout",
     "output_type": "stream",
     "text": [
      "train score: 0.7740857216321525\n",
      "test score: 0.6465527471223449\n"
     ]
    }
   ],
   "source": [
    "pipe_cvkn_base = Pipeline([\n",
    "    ('cvec', CountVectorizer(stop_words = \"english\")),\n",
    "    ('kn', KNeighborsClassifier())\n",
    "])\n",
    "\n",
    "pipe_cvkn_base.fit(X_train, y_train)\n",
    "\n",
    "print(f\"train score: {pipe_cvkn_base.score(X_train, y_train)}\")\n",
    "print(f\"test score: {pipe_cvkn_base.score(X_test, y_test)}\")"
   ]
  },
  {
   "cell_type": "markdown",
   "metadata": {},
   "source": [
    "The Count Vectorizer KNeighbours model, prior to hyperparameter tuning, achieves a training score of 77% and a testing score of 64%. These results will serve as the baseline for comparing the performance of the model after hyperparameter tuning."
   ]
  },
  {
   "cell_type": "markdown",
   "metadata": {},
   "source": [
    "Model with hypertuning. We use gridsearch to search for the best parameters that give us the best performing model."
   ]
  },
  {
   "cell_type": "code",
   "execution_count": 17,
   "metadata": {},
   "outputs": [
    {
     "name": "stdout",
     "output_type": "stream",
     "text": [
      "best param: {'cvec__max_df': 0.85, 'cvec__max_features': 1000, 'cvec__min_df': 3, 'cvec__ngram_range': (1, 2), 'kn__n_neighbors': 31, 'kn__p': 2, 'kn__weights': 'uniform'}\n",
      "best score: 0.6607922256778868\n",
      "train score: 0.6912715836942978\n",
      "test score: 0.6709386495787351\n"
     ]
    }
   ],
   "source": [
    "pipe_cvkn_gridsearch = Pipeline([\n",
    "    ('cvec', CountVectorizer(stop_words = \"english\")),\n",
    "    ('kn', KNeighborsClassifier())\n",
    "])\n",
    "\n",
    "pipe_cvkn_gridsearch_params = {\n",
    "    'cvec__max_features': [1000, 5_000],\n",
    "    'cvec__min_df': [2, 3],\n",
    "    'cvec__max_df': [.85,0.9],\n",
    "    'cvec__ngram_range': [(1,1), (1,2)],\n",
    "    'kn__n_neighbors': [31,51], # select an odd number to prevent ties\n",
    "    'kn__weights': [\"uniform\"],\n",
    "    'kn__p': [1,2]\n",
    "}\n",
    "\n",
    "cvkn_gridsearch = GridSearchCV(pipe_cvkn_gridsearch,\n",
    "                  param_grid=pipe_cvkn_gridsearch_params,\n",
    "                  cv=5)\n",
    "\n",
    "cvkn_gridsearch.fit(X_train, y_train)\n",
    "\n",
    "print(f\"best param: {cvkn_gridsearch.best_params_}\")\n",
    "print(f\"best score: {cvkn_gridsearch.best_score_}\")\n",
    "print(f\"train score: {cvkn_gridsearch.score(X_train, y_train)}\")\n",
    "print(f\"test score: {cvkn_gridsearch.score(X_test, y_test)}\")\n",
    "\n",
    "#average run time : 24 mins "
   ]
  },
  {
   "cell_type": "markdown",
   "metadata": {},
   "source": [
    "Generate confusion matrix and classification evaluation metrics"
   ]
  },
  {
   "cell_type": "code",
   "execution_count": 18,
   "metadata": {},
   "outputs": [
    {
     "name": "stdout",
     "output_type": "stream",
     "text": [
      "Sensitivity (True Positive Rate): 0.8746884205755722\n",
      "Specificity (True Negative Rate): 0.4469357249626308\n",
      "Precision: 0.6348684210526315\n",
      "Accuracy: 0.6709386495787351\n"
     ]
    },
    {
     "data": {
      "image/png": "[encoded data removed]",
      "text/plain": [
       "<Figure size 640x480 with 2 Axes>"
      ]
     },
     "metadata": {},
     "output_type": "display_data"
    }
   ],
   "source": [
    "preds = cvkn_gridsearch.predict(X_test)\n",
    "\n",
    "# Save confusion matrix values\n",
    "tn, fp, fn, tp = confusion_matrix(y_test, preds).ravel()\n",
    "\n",
    "cm = confusion_matrix(y_test, preds)\n",
    "\n",
    "disp =ConfusionMatrixDisplay(confusion_matrix=cm, \n",
    "                             display_labels=cvkn_gridsearch.best_estimator_.classes_)\n",
    "disp.plot()\n",
    "\n",
    "sensitivity, specificity, precision, accuracy = calculate_metrics(cm)\n",
    "\n",
    "print(\"Sensitivity (True Positive Rate):\", sensitivity)\n",
    "print(\"Specificity (True Negative Rate):\", specificity)\n",
    "print(\"Precision:\", precision)\n",
    "print(\"Accuracy:\", accuracy)"
   ]
  },
  {
   "cell_type": "markdown",
   "metadata": {},
   "source": [
    "The model, showing overfitting with a training score of 69.1% and test score of 67.1%, is effective at identifying positives (sensitivity 87.5%) but struggles with true negatives (specificity 44.7%). Precision at 63.4% and accuracy at 67.1% indicate moderate effectiveness, highlighting areas for improvement in generalization and specificity. Due to the severe signs of overfitting shown, we will not consider this model. \n",
    "\n",
    "Comparing to the baseline model, the test score improved by approx 3%. "
   ]
  },
  {
   "cell_type": "markdown",
   "metadata": {},
   "source": [
    "#### 2.4. Logistics Regression"
   ]
  },
  {
   "cell_type": "markdown",
   "metadata": {},
   "source": [
    "Logistic Regression is a statistical method for predicting binary outcomes by using a logistic function to model the probability of a default class, based on one or more independent variables. It is widely used for classification tasks, particularly when there is a need to estimate the probability of an event occurrence."
   ]
  },
  {
   "cell_type": "markdown",
   "metadata": {},
   "source": [
    "##### 2.4.1 Pipeline: TF-IDF Vectorizer and Logistics Regression"
   ]
  },
  {
   "cell_type": "markdown",
   "metadata": {},
   "source": [
    "Baseline model without hypertuning"
   ]
  },
  {
   "cell_type": "code",
   "execution_count": 19,
   "metadata": {},
   "outputs": [
    {
     "name": "stdout",
     "output_type": "stream",
     "text": [
      "train score: 0.8195375699677604\n",
      "test score: 0.7687195917882995\n"
     ]
    }
   ],
   "source": [
    "pipe_tvlr_base = Pipeline([\n",
    "     ('tvec', TfidfVectorizer(stop_words = \"english\")),\n",
    "    ('lr', LogisticRegression())\n",
    "])\n",
    "\n",
    "pipe_tvlr_base.fit(X_train, y_train)\n",
    "\n",
    "print(f\"train score: {pipe_tvlr_base.score(X_train, y_train)}\")\n",
    "print(f\"test score: {pipe_tvlr_base.score(X_test, y_test)}\")\n"
   ]
  },
  {
   "cell_type": "markdown",
   "metadata": {},
   "source": [
    "The TF_IDF Logistic Regression model, prior to hyperparameter tuning, achieves a training score of 81.9% and a testing score of 76.8%. These results will serve as the baseline for comparing the performance of the model after hyperparameter tuning."
   ]
  },
  {
   "cell_type": "markdown",
   "metadata": {},
   "source": [
    "Model with hypertuning. We use gridsearch to search for the best parameters that give us the best performing model."
   ]
  },
  {
   "cell_type": "code",
   "execution_count": 20,
   "metadata": {},
   "outputs": [
    {
     "name": "stdout",
     "output_type": "stream",
     "text": [
      "best param: {'lr__C': 1, 'lr__max_iter': 100, 'tvec__max_features': None, 'tvec__ngram_range': (1, 2)}\n",
      "best score: 0.7649677132093259\n",
      "train score: 0.8912755394687395\n",
      "test score: 0.7719829120683517\n"
     ]
    }
   ],
   "source": [
    "pipe_tvlr_gridsearch = Pipeline([\n",
    "     ('tvec', TfidfVectorizer(stop_words = \"english\")),\n",
    "    ('lr', LogisticRegression())\n",
    "])\n",
    "\n",
    "pipe_tvlr_gridsearch_params = {\n",
    "    'lr__C': [0.1, 0.5, 1],  \n",
    "    'lr__max_iter': [100,150],\n",
    "    'tvec__max_features': [2_000, 3_000, 4_000, 5_000, None],\n",
    "    'tvec__ngram_range': [(1,1), (1,2)]\n",
    "}\n",
    "\n",
    "tvlr_gridsearch = GridSearchCV(pipe_tvlr_gridsearch, \n",
    "                  param_grid=pipe_tvlr_gridsearch_params, \n",
    "                  cv=5)\n",
    "\n",
    "\n",
    "tvlr_gridsearch.fit(X_train, y_train)\n",
    "\n",
    "print(f\"best param: {tvlr_gridsearch.best_params_}\")\n",
    "print(f\"best score: {tvlr_gridsearch.best_score_}\")\n",
    "print(f\"train score: {tvlr_gridsearch.score(X_train, y_train)}\")\n",
    "print(f\"test score: {tvlr_gridsearch.score(X_test, y_test)}\")\n",
    "\n",
    "# run time: 12 mins"
   ]
  },
  {
   "cell_type": "markdown",
   "metadata": {},
   "source": [
    "Generate confusion matrix and classification evaluation metrics"
   ]
  },
  {
   "cell_type": "code",
   "execution_count": 21,
   "metadata": {},
   "outputs": [
    {
     "name": "stdout",
     "output_type": "stream",
     "text": [
      "Sensitivity (True Positive Rate): 0.8195105370496261\n",
      "Specificity (True Negative Rate): 0.7197309417040358\n",
      "Precision: 0.762733312242961\n",
      "Accuracy: 0.7719829120683517\n"
     ]
    },
    {
     "data": {
      "image/png": "[encoded data removed]",
      "text/plain": [
       "<Figure size 640x480 with 2 Axes>"
      ]
     },
     "metadata": {},
     "output_type": "display_data"
    }
   ],
   "source": [
    "preds = tvlr_gridsearch.predict(X_test)\n",
    "\n",
    "# Save confusion matrix values\n",
    "tn, fp, fn, tp = confusion_matrix(y_test, preds).ravel()\n",
    "\n",
    "cm = confusion_matrix(y_test, preds)\n",
    "\n",
    "disp =ConfusionMatrixDisplay(confusion_matrix=cm, \n",
    "                             display_labels=tvlr_gridsearch.best_estimator_.classes_)\n",
    "disp.plot()\n",
    "\n",
    "sensitivity, specificity, precision, accuracy = calculate_metrics(cm)\n",
    "\n",
    "print(\"Sensitivity (True Positive Rate):\", sensitivity)\n",
    "print(\"Specificity (True Negative Rate):\", specificity)\n",
    "print(\"Precision:\", precision)\n",
    "print(\"Accuracy:\", accuracy)"
   ]
  },
  {
   "cell_type": "markdown",
   "metadata": {},
   "source": [
    "The model has training (89.1%) and test (77.1%) scores, suggesting moderate generalization. With sensitivity at 81.9% and specificity at 72%, it's effective at identifying both positives and negatives. Precision at 76.3% and overall accuracy at 77.1% indicate a strong performance, though there's room for improvement in precision and specificity. \n",
    "\n",
    "Comparing to the baseline model, the test score improves by less than 1%. We will evaluate this model with the rest of the models in the evaluation section. "
   ]
  },
  {
   "cell_type": "markdown",
   "metadata": {},
   "source": [
    "##### 2.4.2 Pipeline: CountVectorizer and Logistics Regression"
   ]
  },
  {
   "cell_type": "markdown",
   "metadata": {},
   "source": [
    "Baseline model without hypertuning"
   ]
  },
  {
   "cell_type": "code",
   "execution_count": 22,
   "metadata": {},
   "outputs": [
    {
     "name": "stdout",
     "output_type": "stream",
     "text": [
      "train score: 0.8427975236851994\n",
      "test score: 0.7659309362762549\n"
     ]
    }
   ],
   "source": [
    "pipe_cvlr_base = Pipeline([\n",
    "    ('cvec', CountVectorizer(stop_words = \"english\")),\n",
    "    ('lr', LogisticRegression())\n",
    "])\n",
    "\n",
    "pipe_cvlr_base.fit(X_train, y_train)\n",
    "\n",
    "print(f\"train score: {pipe_cvlr_base.score(X_train, y_train)}\")\n",
    "print(f\"test score: {pipe_cvlr_base.score(X_test, y_test)}\")\n"
   ]
  },
  {
   "cell_type": "markdown",
   "metadata": {},
   "source": [
    "The Count Vectorizer Logistics Regression model, prior to hyperparameter tuning, achieves a training score of 84.2% and a testing score of 76.6%. These results will serve as the baseline for comparing the performance of the model after hyperparameter tuning."
   ]
  },
  {
   "cell_type": "markdown",
   "metadata": {},
   "source": [
    "Model with hypertuning. We use gridsearch to search for the best parameters that give us the best performing model."
   ]
  },
  {
   "cell_type": "code",
   "execution_count": 23,
   "metadata": {},
   "outputs": [
    {
     "name": "stdout",
     "output_type": "stream",
     "text": [
      "best param: {'cvec__max_df': 0.9, 'cvec__max_features': None, 'cvec__min_df': 4, 'cvec__ngram_range': (1, 2), 'lr__C': 0.5, 'lr__max_iter': 100}\n",
      "best score: 0.7615459068892257\n",
      "train score: 0.8665915069522736\n",
      "test score: 0.7667615996202681\n"
     ]
    }
   ],
   "source": [
    "pipe_cvlr_gridsearch = Pipeline([\n",
    "    ('cvec', CountVectorizer(stop_words = \"english\")),\n",
    "    ('lr', LogisticRegression())\n",
    "])\n",
    "\n",
    "pipe_cvlr_gridsearch_param = {\n",
    "    'lr__C': [0.1, 0.5, 1],  \n",
    "    'lr__max_iter': [100,150],\n",
    "    'cvec__max_features': [5_000,7000, None],\n",
    "    'cvec__min_df': [4, 5],\n",
    "    'cvec__max_df': [.9, .95],\n",
    "    'cvec__ngram_range': [(1,1), (1,2)]\n",
    "}\n",
    "\n",
    "cvlr_gridsearch = GridSearchCV(pipe_cvlr_gridsearch,\n",
    "                  param_grid=pipe_cvlr_gridsearch_param, \n",
    "                  cv=5)\n",
    "\n",
    "cvlr_gridsearch.fit(X_train, y_train)\n",
    "\n",
    "print(f\"best param: {cvlr_gridsearch.best_params_}\")\n",
    "print(f\"best score: {cvlr_gridsearch.best_score_}\")\n",
    "print(f\"train score: {cvlr_gridsearch.score(X_train, y_train)}\")\n",
    "print(f\"test score: {cvlr_gridsearch.score(X_test, y_test)}\")\n",
    "\n",
    "# run time: 21mins\n"
   ]
  },
  {
   "cell_type": "markdown",
   "metadata": {},
   "source": [
    "Generate confusion matrix and classification evaluation metrics"
   ]
  },
  {
   "cell_type": "code",
   "execution_count": 24,
   "metadata": {},
   "outputs": [
    {
     "name": "stdout",
     "output_type": "stream",
     "text": [
      "Sensitivity (True Positive Rate): 0.8334466349422162\n",
      "Specificity (True Negative Rate): 0.6934479322371699\n",
      "Precision: 0.749312417235408\n",
      "Accuracy: 0.7667615996202681\n"
     ]
    },
    {
     "data": {
      "image/png": "[encoded data removed]",
      "text/plain": [
       "<Figure size 640x480 with 2 Axes>"
      ]
     },
     "metadata": {},
     "output_type": "display_data"
    }
   ],
   "source": [
    "preds = cvlr_gridsearch.predict(X_test)\n",
    "\n",
    "# Save confusion matrix values\n",
    "tn, fp, fn, tp = confusion_matrix(y_test, preds).ravel()\n",
    "\n",
    "cm = confusion_matrix(y_test, preds)\n",
    "\n",
    "disp =ConfusionMatrixDisplay(confusion_matrix=cm, \n",
    "                             display_labels=cvlr_gridsearch.best_estimator_.classes_)\n",
    "disp.plot()\n",
    "\n",
    "sensitivity, specificity, precision, accuracy = calculate_metrics(cm)\n",
    "\n",
    "print(\"Sensitivity (True Positive Rate):\", sensitivity)\n",
    "print(\"Specificity (True Negative Rate):\", specificity)\n",
    "print(\"Precision:\", precision)\n",
    "print(\"Accuracy:\", accuracy)"
   ]
  },
  {
   "cell_type": "markdown",
   "metadata": {},
   "source": [
    "The model demonstrates training (86.6%) and test (76.7%) scores, highlighting slight overfitting. It effectively identifies true positives (sensitivity 83.3%) but needs improvement in recognizing true negatives (specificity 69.3%). With precision at 74.9% and accuracy at 76.7%, the model is capable but could be enhanced in specificity and precision. This model does not show any improvement in the test score against its counterpart without hypertuning. "
   ]
  },
  {
   "cell_type": "markdown",
   "metadata": {},
   "source": [
    "### 3. Evaluation for Selected Model"
   ]
  },
  {
   "cell_type": "markdown",
   "metadata": {},
   "source": [
    "#### 3.1 Model selection   "
   ]
  },
  {
   "cell_type": "markdown",
   "metadata": {},
   "source": [
    "**Model selection:**    \n",
    "Countvectorizer and Multinomial Naive Bayes model is selected since we are selecting model with the highest accuracy. We are unable to select the model that uses TF-IDF vectorizer as the discrepency between test score and train score is too huge. This indicates strongly that the model will perform badly on test or unseen data. This is especially important in our case of evaluating reviews on app store.  \n",
    "\n",
    "Multinomial Naives Bayes model is also preferred due to its lower computational complexity. "
   ]
  },
  {
   "cell_type": "markdown",
   "metadata": {},
   "source": [
    "Fit parameters in Pipeline and fit our selected model for further evaluation"
   ]
  },
  {
   "cell_type": "code",
   "execution_count": 25,
   "metadata": {},
   "outputs": [
    {
     "name": "stdout",
     "output_type": "stream",
     "text": [
      "train score: 0.8562075990427026\n",
      "test score: 0.7766108935564258\n"
     ]
    }
   ],
   "source": [
    "model = Pipeline([\n",
    "    ('cvec', CountVectorizer(stop_words = \"english\", max_df = 0.85, min_df = 2, ngram_range = (1,2))),\n",
    "    ('nb', MultinomialNB(alpha = 1))\n",
    "])\n",
    "\n",
    "model.fit(X_train, y_train)\n",
    "\n",
    "print(f\"train score: {model.score(X_train, y_train)}\")\n",
    "print(f\"test score: {model.score(X_test, y_test)}\")"
   ]
  },
  {
   "cell_type": "markdown",
   "metadata": {},
   "source": [
    "Save model as a joblib "
   ]
  },
  {
   "cell_type": "code",
   "execution_count": 54,
   "metadata": {},
   "outputs": [
    {
     "data": {
      "text/plain": [
       "['../streamlit/pipe_cvnb_gridsearch.joblib']"
      ]
     },
     "execution_count": 54,
     "metadata": {},
     "output_type": "execute_result"
    }
   ],
   "source": [
    "dump(model, '../streamlit/pipe_cvnb_gridsearch.joblib')"
   ]
  },
  {
   "cell_type": "markdown",
   "metadata": {},
   "source": [
    "#### 3.2. Feature importance in prediction"
   ]
  },
  {
   "cell_type": "markdown",
   "metadata": {},
   "source": [
    "Identify the list of most important features affecting the model's classification outcome. The higher the log probability, the more important is the word used to estimate the outcome of the classification model. "
   ]
  },
  {
   "cell_type": "markdown",
   "metadata": {},
   "source": [
    "To predict if comment is related to delivery category"
   ]
  },
  {
   "cell_type": "code",
   "execution_count": 27,
   "metadata": {},
   "outputs": [
    {
     "data": {
      "text/html": [
       "<div>\n",
       "<style scoped>\n",
       "    .dataframe tbody tr th:only-of-type {\n",
       "        vertical-align: middle;\n",
       "    }\n",
       "\n",
       "    .dataframe tbody tr th {\n",
       "        vertical-align: top;\n",
       "    }\n",
       "\n",
       "    .dataframe thead th {\n",
       "        text-align: right;\n",
       "    }\n",
       "</style>\n",
       "<table border=\"1\" class=\"dataframe\">\n",
       "  <thead>\n",
       "    <tr style=\"text-align: right;\">\n",
       "      <th></th>\n",
       "      <th>Words</th>\n",
       "      <th>Log Prob</th>\n",
       "    </tr>\n",
       "  </thead>\n",
       "  <tbody>\n",
       "    <tr>\n",
       "      <th>49689</th>\n",
       "      <td>order</td>\n",
       "      <td>-4.815773</td>\n",
       "    </tr>\n",
       "    <tr>\n",
       "      <th>35998</th>\n",
       "      <td>just</td>\n",
       "      <td>-4.825433</td>\n",
       "    </tr>\n",
       "    <tr>\n",
       "      <th>72908</th>\n",
       "      <td>tip</td>\n",
       "      <td>-4.942494</td>\n",
       "    </tr>\n",
       "    <tr>\n",
       "      <th>39603</th>\n",
       "      <td>like</td>\n",
       "      <td>-4.946659</td>\n",
       "    </tr>\n",
       "    <tr>\n",
       "      <th>21245</th>\n",
       "      <td>driver</td>\n",
       "      <td>-4.962437</td>\n",
       "    </tr>\n",
       "    <tr>\n",
       "      <th>51980</th>\n",
       "      <td>people</td>\n",
       "      <td>-5.084636</td>\n",
       "    </tr>\n",
       "    <tr>\n",
       "      <th>27039</th>\n",
       "      <td>food</td>\n",
       "      <td>-5.094266</td>\n",
       "    </tr>\n",
       "    <tr>\n",
       "      <th>43338</th>\n",
       "      <td>make</td>\n",
       "      <td>-5.318771</td>\n",
       "    </tr>\n",
       "    <tr>\n",
       "      <th>75420</th>\n",
       "      <td>uber</td>\n",
       "      <td>-5.324084</td>\n",
       "    </tr>\n",
       "    <tr>\n",
       "      <th>17847</th>\n",
       "      <td>delivery</td>\n",
       "      <td>-5.377623</td>\n",
       "    </tr>\n",
       "  </tbody>\n",
       "</table>\n",
       "</div>"
      ],
      "text/plain": [
       "          Words  Log Prob\n",
       "49689     order -4.815773\n",
       "35998      just -4.825433\n",
       "72908       tip -4.942494\n",
       "39603      like -4.946659\n",
       "21245    driver -4.962437\n",
       "51980    people -5.084636\n",
       "27039      food -5.094266\n",
       "43338      make -5.318771\n",
       "75420      uber -5.324084\n",
       "17847  delivery -5.377623"
      ]
     },
     "execution_count": 27,
     "metadata": {},
     "output_type": "execute_result"
    }
   ],
   "source": [
    "feat_list = []\n",
    "\n",
    "for i in zip(model.steps[0][1].get_feature_names_out(), model.steps[1][1].feature_log_prob_[1]):\n",
    "    feat_list.append(i)\n",
    "\n",
    "feature_importance = pd.DataFrame(feat_list, columns=['Words', 'Log Prob'])\n",
    "feature_importance.sort_values(by=['Log Prob'], ascending=False, inplace=True)\n",
    "\n",
    "feature_importance.head(10)"
   ]
  },
  {
   "cell_type": "markdown",
   "metadata": {},
   "source": [
    "We see that the word such as \"order\", \"tip\", \"food\", \"customer\" and \"delivery\" ranks highly on the list as expectedly shown in our EDA.  In addition, we see the word \"driver\" and \"uber\" ranked highly as well and these words might not necessaarily translate to content related to delivery in the Southeast Asia context (the area where grab operates in)."
   ]
  },
  {
   "cell_type": "markdown",
   "metadata": {},
   "source": [
    "To predict if comment is related to ride hailing category"
   ]
  },
  {
   "cell_type": "code",
   "execution_count": 28,
   "metadata": {},
   "outputs": [
    {
     "data": {
      "text/html": [
       "<div>\n",
       "<style scoped>\n",
       "    .dataframe tbody tr th:only-of-type {\n",
       "        vertical-align: middle;\n",
       "    }\n",
       "\n",
       "    .dataframe tbody tr th {\n",
       "        vertical-align: top;\n",
       "    }\n",
       "\n",
       "    .dataframe thead th {\n",
       "        text-align: right;\n",
       "    }\n",
       "</style>\n",
       "<table border=\"1\" class=\"dataframe\">\n",
       "  <thead>\n",
       "    <tr style=\"text-align: right;\">\n",
       "      <th></th>\n",
       "      <th>Words</th>\n",
       "      <th>Log Prob</th>\n",
       "    </tr>\n",
       "  </thead>\n",
       "  <tbody>\n",
       "    <tr>\n",
       "      <th>21245</th>\n",
       "      <td>driver</td>\n",
       "      <td>-4.196787</td>\n",
       "    </tr>\n",
       "    <tr>\n",
       "      <th>75420</th>\n",
       "      <td>uber</td>\n",
       "      <td>-4.431355</td>\n",
       "    </tr>\n",
       "    <tr>\n",
       "      <th>35998</th>\n",
       "      <td>just</td>\n",
       "      <td>-4.880505</td>\n",
       "    </tr>\n",
       "    <tr>\n",
       "      <th>60533</th>\n",
       "      <td>ride</td>\n",
       "      <td>-5.033980</td>\n",
       "    </tr>\n",
       "    <tr>\n",
       "      <th>39603</th>\n",
       "      <td>like</td>\n",
       "      <td>-5.052302</td>\n",
       "    </tr>\n",
       "    <tr>\n",
       "      <th>62612</th>\n",
       "      <td>say</td>\n",
       "      <td>-5.223740</td>\n",
       "    </tr>\n",
       "    <tr>\n",
       "      <th>51980</th>\n",
       "      <td>people</td>\n",
       "      <td>-5.231891</td>\n",
       "    </tr>\n",
       "    <tr>\n",
       "      <th>10058</th>\n",
       "      <td>car</td>\n",
       "      <td>-5.235840</td>\n",
       "    </tr>\n",
       "    <tr>\n",
       "      <th>72234</th>\n",
       "      <td>time</td>\n",
       "      <td>-5.293141</td>\n",
       "    </tr>\n",
       "    <tr>\n",
       "      <th>43338</th>\n",
       "      <td>make</td>\n",
       "      <td>-5.329234</td>\n",
       "    </tr>\n",
       "  </tbody>\n",
       "</table>\n",
       "</div>"
      ],
      "text/plain": [
       "        Words  Log Prob\n",
       "21245  driver -4.196787\n",
       "75420    uber -4.431355\n",
       "35998    just -4.880505\n",
       "60533    ride -5.033980\n",
       "39603    like -5.052302\n",
       "62612     say -5.223740\n",
       "51980  people -5.231891\n",
       "10058     car -5.235840\n",
       "72234    time -5.293141\n",
       "43338    make -5.329234"
      ]
     },
     "execution_count": 28,
     "metadata": {},
     "output_type": "execute_result"
    }
   ],
   "source": [
    "feat_list = []\n",
    "\n",
    "for i in zip(model.steps[0][1].get_feature_names_out(), model.steps[1][1].feature_log_prob_[0]):\n",
    "    feat_list.append(i)\n",
    "\n",
    "feature_importance = pd.DataFrame(feat_list, columns=['Words', 'Log Prob'])\n",
    "feature_importance.sort_values(by=['Log Prob'], ascending=False, inplace=True)\n",
    "\n",
    "feature_importance.head(10)"
   ]
  },
  {
   "cell_type": "markdown",
   "metadata": {},
   "source": [
    "We see that the word such as \"driver\", \"uber\", \"ride\", \"car\" ranks highly on the list as expectedly shown in our EDA."
   ]
  },
  {
   "cell_type": "markdown",
   "metadata": {},
   "source": [
    "#### 3.3. Probablilty Distribution of Prediction"
   ]
  },
  {
   "cell_type": "markdown",
   "metadata": {},
   "source": [
    "We create a dataframe of predicted probabilities, actual classification and predicted classifications to help us evaluate our model. "
   ]
  },
  {
   "cell_type": "code",
   "execution_count": 29,
   "metadata": {},
   "outputs": [],
   "source": [
    "\n",
    "pred_proba = [i[1] for i in model.predict_proba(X_test)]\n",
    "pred_df = pd.DataFrame({'true_values': y_test,'pred_probs':pred_proba})\n",
    "pred_df[\"predicted_results\"] = pred_df[\"pred_probs\"].map(lambda x: 1 if x >= 0.5 else 0)\n",
    "\n",
    "# Define function to bin predictions based on confidence on estimation. Delivery related comments predicted with a probability (of class 1) more than 0.85 will be classified as high\n",
    "# Ride hailing comments predicted with probability (of class 1) less than 0.15 will be classified as high\n",
    "\n",
    "def split_into_bins(row):\n",
    "    if (row[\"predicted_results\"] == 1) and (row[\"pred_probs\"] >= 0.85):\n",
    "        return \"high\"\n",
    "    elif (row[\"predicted_results\"] == 0) and (row[\"pred_probs\"] <= 0.15):\n",
    "        return \"high\"\n",
    "    else:\n",
    "        return \"others\"\n",
    "\n",
    "pred_df[\"bin\"] = pred_df.apply(split_into_bins,axis =1)"
   ]
  },
  {
   "cell_type": "code",
   "execution_count": 30,
   "metadata": {},
   "outputs": [
    {
     "data": {
      "text/plain": [
       "<matplotlib.legend.Legend at 0x2110c1d7ec0>"
      ]
     },
     "execution_count": 30,
     "metadata": {},
     "output_type": "execute_result"
    },
    {
     "data": {
      "image/png": "[encoded data removed]",
      "text/plain": [
       "<Figure size 1200x800 with 1 Axes>"
      ]
     },
     "metadata": {},
     "output_type": "display_data"
    }
   ],
   "source": [
    "# define colours\n",
    "\n",
    "grab_green = \"#00B14F\"\n",
    "grab_light_green = \"#E0FFED\"\n",
    "grab_dark_green = \"#00733E\"\n",
    "grab_brown = \"#80461B\"\n",
    "\n",
    "# plot probablity distribution graph for estimation of class 1 \n",
    "\n",
    "plt.figure(figsize = (12,8))\n",
    "plt.hist(pred_df[pred_df['true_values'] == 0]['pred_probs'],\n",
    "         bins=30,\n",
    "         color= grab_brown,\n",
    "         alpha = 0.6,\n",
    "         label='Rider Hailing Category')\n",
    "plt.hist(pred_df[pred_df['true_values'] == 1]['pred_probs'],\n",
    "         bins=30,\n",
    "         color= grab_dark_green,\n",
    "         alpha = 0.6,\n",
    "         label='Delivery Category')\n",
    "plt.vlines(x=0.5,\n",
    "           ymin = 0,\n",
    "           ymax = 65,\n",
    "           color='r',\n",
    "           linestyle = '--')\n",
    "plt.title('Predicted Probabilities Distribution for Rider Hailing and Delivery Categories', fontsize=12)\n",
    "plt.ylabel('Frequency', fontsize=12)\n",
    "plt.xlabel('Predicted Prob of Delivery Category', fontsize=12)\n",
    "plt.legend(fontsize=12)"
   ]
  },
  {
   "cell_type": "markdown",
   "metadata": {},
   "source": [
    "We see majority of the predictions are done with high confidence. Thus, the two peaks on the both ends. However, we also see a small hump in the middle of the histogram and this can be due to several overlapping terms that are used interchangably between the two service types such as \"driver\". We will do further analysis below to uncover what can be the reason for low confidence prediction as well as mis-classified comments with high confidence of prediction. "
   ]
  },
  {
   "cell_type": "markdown",
   "metadata": {},
   "source": [
    "We plot the below graph for the presentation as well as a simpler view of the above. "
   ]
  },
  {
   "cell_type": "code",
   "execution_count": 31,
   "metadata": {},
   "outputs": [
    {
     "data": {
      "image/png": "[encoded data removed]",
      "text/plain": [
       "<Figure size 1200x800 with 2 Axes>"
      ]
     },
     "metadata": {},
     "output_type": "display_data"
    }
   ],
   "source": [
    "\n",
    "# Plot for wrongly classified results\n",
    "wrongly_classified_results = pred_df[pred_df[\"true_values\"] != pred_df[\"predicted_results\"]]\n",
    "wrong_frequency_distribution = wrongly_classified_results['bin'].value_counts()\n",
    "wrong_frequency_distribution = wrong_frequency_distribution.sort_index()\n",
    "\n",
    "# Plot for correctly classified results\n",
    "correct_classified_results = pred_df[pred_df[\"true_values\"] == pred_df[\"predicted_results\"]]\n",
    "correct_frequency_distribution = correct_classified_results['bin'].value_counts()\n",
    "correct_frequency_distribution = correct_frequency_distribution.sort_index()\n",
    "\n",
    "plt.figure(figsize=(12, 8)) \n",
    "\n",
    "# Plot 1: Wrongly Classified Results\n",
    "plt.subplot(1, 2, 1) \n",
    "plt.bar(wrong_frequency_distribution.index, wrong_frequency_distribution.values, color=grab_green)\n",
    "plt.title('Wrongly Categorized Comments vs Confidence of Estimate', fontsize=14)\n",
    "plt.ylabel('Frequency', fontsize=12)\n",
    "plt.xlabel('Confidence of Estimate (>85% = High)', fontsize=12)\n",
    "\n",
    "# Plot 2: Correctly Classified Results\n",
    "plt.subplot(1, 2, 2) \n",
    "plt.bar(correct_frequency_distribution.index, correct_frequency_distribution.values, color=grab_green)\n",
    "plt.title('Correctly Categorized Comments vs Confidence of Estimate', fontsize=14)\n",
    "plt.ylabel('Frequency', fontsize=12)\n",
    "plt.xlabel('Confidence of Estimate (>85% = High)', fontsize=12)\n",
    "\n",
    "plt.tight_layout() \n",
    "plt.show()"
   ]
  },
  {
   "cell_type": "markdown",
   "metadata": {},
   "source": [
    "It is assuring to see that we estimate most of the correctly categorized comments with relatively high confidence (> 85%). We will investigate in the following sections:  \n",
    "- comments estimated with low level of confidence\n",
    "- wrongly categorized comments but yet with a high level of confidence. "
   ]
  },
  {
   "cell_type": "markdown",
   "metadata": {},
   "source": [
    "#### 3.4. Evaluate comments with low confidence of prediction (between 0.4 and 0.6)"
   ]
  },
  {
   "cell_type": "markdown",
   "metadata": {},
   "source": [
    "For this section we look at comments that were estimated with low level of confidence. We aim to understand what can be causing this and evaluate if it will adversely impact our use case. "
   ]
  },
  {
   "cell_type": "code",
   "execution_count": 32,
   "metadata": {},
   "outputs": [],
   "source": [
    "prob_estimate = model.predict_proba(X_test)\n",
    "prediction_review = X_test.copy()\n",
    "prediction_review = pd.DataFrame(prediction_review)\n",
    "prediction_review[\"results_class0\"] = prob_estimate[:,0]\n",
    "prediction_review[\"results_class1\"] = prob_estimate[:,1]\n",
    "prediction_review[\"actual\"] = y_test\n",
    "unconfident_estimates = prediction_review[(prediction_review[\"results_class0\"] <= 0.6) & (prediction_review[\"results_class0\"] >= 0.4) ]"
   ]
  },
  {
   "cell_type": "code",
   "execution_count": 33,
   "metadata": {},
   "outputs": [
    {
     "data": {
      "text/plain": [
       "<Axes: >"
      ]
     },
     "execution_count": 33,
     "metadata": {},
     "output_type": "execute_result"
    },
    {
     "data": {
      "image/png": "[encoded data removed]",
      "text/plain": [
       "<Figure size 640x480 with 1 Axes>"
      ]
     },
     "metadata": {},
     "output_type": "display_data"
    }
   ],
   "source": [
    "cvec_pe = CountVectorizer(stop_words = \"english\", max_features = 50)\n",
    "cvec_pe.fit(unconfident_estimates[\"body\"])\n",
    "lemmatize_pe_text_transformed = cvec_pe.transform(unconfident_estimates[\"body\"])\n",
    "\n",
    "pe_df = pd.DataFrame(lemmatize_pe_text_transformed.todense(), \n",
    "                          columns=cvec_pe.get_feature_names_out())\n",
    "pe_df.sum().sort_values(ascending=True).tail(10).plot(kind='barh', color = grab_green)"
   ]
  },
  {
   "cell_type": "markdown",
   "metadata": {},
   "source": [
    "We see the presence of words such as \"driver\" and \"uber\" that we see are high in ranking in both service type from our Exploratory Data Analysis. We acknowledge this and it will be important to know that our classifier might also face similar issues since \"Grab\" and \"Grabfood\" might also be used in similar context in Delivery service type. "
   ]
  },
  {
   "cell_type": "code",
   "execution_count": 34,
   "metadata": {},
   "outputs": [
    {
     "data": {
      "text/html": [
       "<div>\n",
       "<style scoped>\n",
       "    .dataframe tbody tr th:only-of-type {\n",
       "        vertical-align: middle;\n",
       "    }\n",
       "\n",
       "    .dataframe tbody tr th {\n",
       "        vertical-align: top;\n",
       "    }\n",
       "\n",
       "    .dataframe thead th {\n",
       "        text-align: right;\n",
       "    }\n",
       "</style>\n",
       "<table border=\"1\" class=\"dataframe\">\n",
       "  <thead>\n",
       "    <tr style=\"text-align: right;\">\n",
       "      <th></th>\n",
       "      <th>body</th>\n",
       "      <th>results_class0</th>\n",
       "      <th>results_class1</th>\n",
       "      <th>actual</th>\n",
       "    </tr>\n",
       "  </thead>\n",
       "  <tbody>\n",
       "    <tr>\n",
       "      <th>57475</th>\n",
       "      <td>haha , they try take a look at my phone too… s...</td>\n",
       "      <td>0.575211</td>\n",
       "      <td>0.424789</td>\n",
       "      <td>1</td>\n",
       "    </tr>\n",
       "    <tr>\n",
       "      <th>55831</th>\n",
       "      <td>r/didntask</td>\n",
       "      <td>0.476354</td>\n",
       "      <td>0.523646</td>\n",
       "      <td>1</td>\n",
       "    </tr>\n",
       "    <tr>\n",
       "      <th>61731</th>\n",
       "      <td>is that why nobody wear pant anymore ?</td>\n",
       "      <td>0.497539</td>\n",
       "      <td>0.502461</td>\n",
       "      <td>1</td>\n",
       "    </tr>\n",
       "    <tr>\n",
       "      <th>13277</th>\n",
       "      <td>lol no it do n't ! deductible be a thing you f...</td>\n",
       "      <td>0.498639</td>\n",
       "      <td>0.501361</td>\n",
       "      <td>0</td>\n",
       "    </tr>\n",
       "    <tr>\n",
       "      <th>7357</th>\n",
       "      <td>2019 be $ 2.19</td>\n",
       "      <td>0.534541</td>\n",
       "      <td>0.465459</td>\n",
       "      <td>0</td>\n",
       "    </tr>\n",
       "    <tr>\n",
       "      <th>37534</th>\n",
       "      <td>call support , report you don ’ t feel safe ! ...</td>\n",
       "      <td>0.448059</td>\n",
       "      <td>0.551941</td>\n",
       "      <td>1</td>\n",
       "    </tr>\n",
       "    <tr>\n",
       "      <th>56476</th>\n",
       "      <td>you go for maximum clickbait without give the ...</td>\n",
       "      <td>0.447776</td>\n",
       "      <td>0.552224</td>\n",
       "      <td>1</td>\n",
       "    </tr>\n",
       "    <tr>\n",
       "      <th>43281</th>\n",
       "      <td>it say 1 of 2 .</td>\n",
       "      <td>0.518032</td>\n",
       "      <td>0.481968</td>\n",
       "      <td>1</td>\n",
       "    </tr>\n",
       "    <tr>\n",
       "      <th>27202</th>\n",
       "      <td>glad you could get that off your chest 😂</td>\n",
       "      <td>0.595270</td>\n",
       "      <td>0.404730</td>\n",
       "      <td>0</td>\n",
       "    </tr>\n",
       "    <tr>\n",
       "      <th>25777</th>\n",
       "      <td>huh ?</td>\n",
       "      <td>0.442788</td>\n",
       "      <td>0.557212</td>\n",
       "      <td>0</td>\n",
       "    </tr>\n",
       "  </tbody>\n",
       "</table>\n",
       "</div>"
      ],
      "text/plain": [
       "                                                    body  results_class0  \\\n",
       "57475  haha , they try take a look at my phone too… s...        0.575211   \n",
       "55831                                         r/didntask        0.476354   \n",
       "61731             is that why nobody wear pant anymore ?        0.497539   \n",
       "13277  lol no it do n't ! deductible be a thing you f...        0.498639   \n",
       "7357                                      2019 be $ 2.19        0.534541   \n",
       "37534  call support , report you don ’ t feel safe ! ...        0.448059   \n",
       "56476  you go for maximum clickbait without give the ...        0.447776   \n",
       "43281                                    it say 1 of 2 .        0.518032   \n",
       "27202           glad you could get that off your chest 😂        0.595270   \n",
       "25777                                              huh ?        0.442788   \n",
       "\n",
       "       results_class1  actual  \n",
       "57475        0.424789       1  \n",
       "55831        0.523646       1  \n",
       "61731        0.502461       1  \n",
       "13277        0.501361       0  \n",
       "7357         0.465459       0  \n",
       "37534        0.551941       1  \n",
       "56476        0.552224       1  \n",
       "43281        0.481968       1  \n",
       "27202        0.404730       0  \n",
       "25777        0.557212       0  "
      ]
     },
     "execution_count": 34,
     "metadata": {},
     "output_type": "execute_result"
    }
   ],
   "source": [
    "unconfident_estimates.head(10)"
   ]
  },
  {
   "cell_type": "markdown",
   "metadata": {},
   "source": [
    "In addition, we also see that those comments with poor estimation confidence can also be due to comments that cannot be attributed to both service types. These comments will hold no value for our use case regardless of which categories they are categorized under. Example from the above would be\"huh?\" and \"2019 be $2.19\""
   ]
  },
  {
   "cell_type": "markdown",
   "metadata": {},
   "source": [
    "#### 3.5. Evaluate comments with mis-classification but high confidence (above 0.85)"
   ]
  },
  {
   "cell_type": "markdown",
   "metadata": {},
   "source": [
    "In this section, we look at comments that are mis-classified but with high confidence. We define them to be above 0.85 in this case. "
   ]
  },
  {
   "cell_type": "markdown",
   "metadata": {},
   "source": [
    "Looking at delivery comments wrongly classified as ride hailing. We define a dataframe with only delivery comments wrongly classified with high confidence for evaluation.  "
   ]
  },
  {
   "cell_type": "code",
   "execution_count": 35,
   "metadata": {},
   "outputs": [],
   "source": [
    "delivery_wrongly_classified = prediction_review[(prediction_review[\"actual\"] == 1) & (prediction_review[\"results_class0\"] >= 0.85) ]"
   ]
  },
  {
   "cell_type": "code",
   "execution_count": 36,
   "metadata": {},
   "outputs": [
    {
     "name": "stdout",
     "output_type": "stream",
     "text": [
      "need rep who speaks and understands english . and stop reading those damn script ! need rep who can think for themselves and stop be stupid podcasters . do n't they know they can be replace by talkman .\n",
      "dispute it with your card , uber do n't care .\n",
      "never let your car get keyed , so you like suck off cop . but dislike the action that come with it ? aweee boooo hoooo wahhhhh “ police they keyed my cawr ” !\n",
      "that feel like it shouldn ’ t happen though , they should be able to auto-detect that sort of thing . i have a car accident that wasn ’ t my fault on my record from 2 1/2 year ago that auto-flagged and prevents me from do rideshares but they still let me do ubereats . it ’ s the only thing on my entire background check too . a dui should have auto-flagged if a no-fault car accident do .\n",
      "that ’ s beg and i strongly dislike that . they accepted the job know they might have to wait or they cancel and move on and let someone else get it for you .\n",
      "lol drive uber doesn ’ t mean you ’ re dumb or whatever you ’ re insinuate\n",
      "our schedule be make for u by workforce management but if we go a little late it doesn ’ t matter . as long a we only take the schedule amount of time\n",
      "the driver start it when they arrive\n",
      "well for one , i have to offer you my respect for not contest actuality : it ’ s an easy job . in fact , i drove uber eats/passengers full time over a year . i see your frustration with the customer have to churn up every dollar ( or majority ) of your pay . meanwhile uber be reward with the most profit . do i want to see driver paid more ? i mean , why not . do i want to see uber split the profit more ? i mean , why not . at the end of the day , uber be only able to do what it be do * because * it be what the market have determine to be fair . now if you think it isn ’ t fair , then i would ask why price be the way they be . we can agree to disagree .\n",
      "i 've be in vega when it be 117. i 'll take that over the 95 degree day in ny . the air be so thick with humidity that it can become tough to breath . you can see the humidity in the air . & # x200b ; people think nyers be rude . truth be , the rest of the country be rude . nyers just do n't have time to chat , which give off that perception . you guy want to ask about every bit of my day and pretend to care . a nyer ( a real old school nyer ) wont ask if you need something ( water in this case ) . he 'll just give it to you ... and he wo n't ask about your day because ask be a waste of time . & # x200b ; not gon na lie ... 117 be no joke hot where i could feel myself cook , even in the shade ... i could feel any bit of moisture leave my body ... but i be able to breathe !\n",
      "ok. not sure what else to say without you get too emotional . best of luck out there and always stay safe . you have a wonderful rest of your day !\n",
      "we actually have a really big problem with it at a previous restaurant during covid . i didn ’ t put a sign up but i have foh tell me if a driver use the bathroom and i ’ d check it out . if they left pee on the floor and the seat ( almost guaranteed if they be 45-65 male , it seem the generation before and after learn how to clean up after themselves ) thumb down and an explanation to uber . a couple that i personally witness didn ’ t even wash hand . to my knowledge uber didnt send again anybody we thumb down\n",
      "lol i have a rider like this . i wouldn ’ t take him & his dog to his destination so i kindly ask him to cancel because i don ’ t do uber pet . i have already driven 7-8 min and be a block down when i read the message so i be literally a house or two down when i ask him to cancel . when he see how close i be , he start send these same message like travis lol try to make me cancel . i do cancel because i felt unsafe in that area/ in front of his house… . but yeah . people be weirdddd\n",
      "i think because the cost of maintenance be high , and uber keep expand their business in newer and unaffordable way .\n",
      "do n't forget not have to worry about call in sick , ability to stop at any time for no reason , no worry about `` find coverage due '' due to an emergency , etc . i can go on but yeah\n",
      "exactly . it 's just logical fallacy i think . people have a bad experience with the car they do no research on , so they think they need a brand new car to get by . when in reality if you do your research , there be plenty of car for under like 12k that you could get and last you about 10 year for the average driver\n",
      "amazon told me 9 month after i return an item , and be refund , that they do n't receive the item back and charge me £180 for it again . they ask for the receipt of the return but who keep that shit 9 month after a return ! ? anyway , call them scamazon manage to get their attention and sort the issue out in a few minute . even get a £5 gift card a an apology .\n",
      "you must be one of the bum with the blue life matter sticker on their car\n",
      "yes i do read this from the other perspective , thanks for clarify !\n",
      "this be where uber know they have you over a barrel though . uber ban you so you report them to the payment processor and they might get hit with a fine , however you be still ban . you could try contact uber again after the fact and plead your case but that may very well be just a unsuccessful . so your last option be to take them to court ( i would not imagine that small claim would be an option because at this point you be take them to court over be ban , not the actual cost of the order ) which would be very time consume and likely much more costly than the cost of the original meal . at the end of the day , there be nothing illegal about uber ban you after a chargeback even if it do run afoul of the merchant agreement and because uber be such a high volume client , the payment processor be n't likely to care . that 's why the best thing to do in this case be either file a chargeback and kiss the account goodbye or eat the cost of the miss meal . my comment suggest caution with chargebacks be more for those like the person elsewhere in this post who say they file a full chargeback if even the slightest item be miss .\n"
     ]
    }
   ],
   "source": [
    "for content in delivery_wrongly_classified[\"body\"].head(20):\n",
    "    print(content)"
   ]
  },
  {
   "cell_type": "markdown",
   "metadata": {},
   "source": [
    "Excluding irrelevant comments, our analysis revealed that certain comments inaccurately labeled as \"ride-hailing\" in our test dataset genuinely belong to ride-hailing discussions, albeit posted within the UberEats subreddit. This distinction made by our model is noteworthy. For instance, one comment humorously notes: \"lol I have a rider like this. I wouldn't take him & his dog to his destination,\" illustrating the model's capability to correctly identify ride-hailing related content in an unexpected context.\""
   ]
  },
  {
   "cell_type": "markdown",
   "metadata": {},
   "source": [
    "Looking at ride hailing comments wrongly classified as delivery. We define a dataframe with only ride hailing comments wrongly classified with high confidence for evaluation.  "
   ]
  },
  {
   "cell_type": "code",
   "execution_count": 37,
   "metadata": {},
   "outputs": [],
   "source": [
    "ride_hailing_wrongly_classified = prediction_review[(prediction_review[\"actual\"] == 0) & (prediction_review[\"results_class1\"] >= 0.99) ]"
   ]
  },
  {
   "cell_type": "code",
   "execution_count": 38,
   "metadata": {},
   "outputs": [
    {
     "name": "stdout",
     "output_type": "stream",
     "text": [
      "so if your finger slip and you accidentally add a 0 , tip $ 50.00 instead of $ 5.00 you 're just shit out of luck ? 😬😬\n",
      "then take it up with the government , not the people order food .\n",
      "have you try any of the fine din food delivery apps ?\n",
      "most be like $ 3 in my area so i turn off delivery and only do ride . i ai n't spending 40+ minute to go get food and deliver it for $ 3 dollar .\n",
      "my response would be , nice of u to still have a family my kid get kill outside the restaurant i work at , then my wife die of a heart attack last month , i have n't left the house since and now i 'm in debt a i just ca n't leave the house it re eminds me of them to much . please bring me more food and of your scrap would help i 'm 30000 in debt and about to be evict . .end response .... or yeah just cancel then and get a hourly job your clearly not cut out to be a contractor . ask your bos for money i just paid 15 $ in fee\n",
      "i ran into this issue a couple year ago , end up wag a twitter battle against uber , some friendly user that saw my post help apply the pressure , and finally i get a refund after week and week for an order that never arrive . i be living in a condo building with a doorman that accepts all delivery in the building , and there be multiple camera angle show the delivery be never make to my address . i stop use uber eats altogether after that .\n",
      "no , tip culture be not out of hand in the context of gig apps . gig apps pay half of the delivery fee ( $ 2-4 ) , so you should pay a tip . this be n't a bartender or waitress who have no biz expense . the driver pay out of their own pocket via gas , car maintenance , insurance , etc . you need to pay a tip for the driver to make money . they 're not your slave . get your own food if you do n't wan na tip .\n",
      "panda express and mcdonald ’ s be hire dawg look into it\n",
      "if you aren ’ t a customer in any way of the store why would people even think they should have access ? i think it ’ s common sense that restroom in private business be for customer ( and staff ) only . just because it ’ s a convenience store doesn ’ t mean your entitle to the restroom if you have not bought anything . how be that any different than walk in a restaurant and demand the bathroom ? most restaurant be the same , customer and staff only . i think the right thing would be to have public washroom , not force private business to pick up this responsibility and cost for the public . all restroom be not for the general public , they be for staff and customer . not sure why that ’ s so hard for some people to grasp .\n",
      "as far a i know , there be only 2 delivery option . deliver to door and hand it to me . i guess i have mine set to hide and seek . my bad .\n",
      "at my last job , i want to bitch slap people until my arm go limp , but that 's part of the reason i do n't have that job anymore .\n",
      "minimum wage be not a living wage , it 's a slave wage .\n",
      "you be reduce the strike to simply monetary value , when people be strike for a number of thing . one of these be safety . further more , to dilute this argument simply to a monetary one be the worst take possible when it be known these appholes take a ridiculously high percentage of the customer fair ( brining my epic v apple comment ) . you would call epic “ stupid ” for fight for a more sensible percentage ; right ? why do people call driver stupid or lazy when we be simply say , we be all get screw .\n",
      "a rule of thumb for good comedy be not to punch down . and since mental health awareness be severely lack , a be access to mental healthcare , joking about it only serf to trigger and upset people who be already mentally and emotionally vulnerable . making fun at their expense seem callous and mean . but i do agree that we need to laugh more . and it ’ s definitely a weird time . we ’ re more connect than ever yet more disconnect a well . lonelier too . definitely an interest time . and it ’ s only get more dire a inequality and injustice rise .\n",
      "i stop go through a drivethru because i ’ ve notice that your order be always right if you tip at least 20 % , but will be almost certainly mess up if you tip less . this be a place that be already pay $ 18/hr for unskilled labor ( if anyone can walk in off the street and do your job with a few day of training , you be not do skilled work—skilled work mean you be bring skill necessary to the job , not be taught how to do the job over a few day ) when minimum wage be $ 9/hr . i don ’ t like that tip be literally a bribe to not fuck up my order . i be fine pay $ 8 for my kid ‘ s hamburger kid ’ s mean and $ 12 for my cheeseburger and $ 8 for a milkshake to cover that $ 18/hr , but i ’ m not go to pay an extra $ 5.60 so you don ’ t “ accidentally forget ” that a child ’ s burger should have a patty between the bun .\n",
      "this marvin . your cousin marvin . you know that new sound you ’ ve be look for ? wells listen to this\n",
      "multi-apping be * absolutely * the norm . i have never gotten into a rideshare that do n't have all the major sticker up in their window advertising that they drive for all of them . most of them be also do the food delivery shit on the side too , and any of them will * absolutely * last minute unassign themselves from a job to snipe one that will pay out a couple buck more .\n",
      "dude , some thug use uber , do n't need that bottle water to survive . he take it because he can . you be completely detach from life\n",
      "it 's the restaurant 's fault and them you need to contact , i thought that would be pretty obvious . uber do n't prepare the food , nor do they bag and seal it . how in the world could they be held responsible for something they have absolutely no hand in ?\n",
      "i wonder why company bother with a terrible ai chatbot a a first-line response to real complaint . is there a study somewhere that show how they work ? i imagine the intent be not to solve a problem but to get you to go away . and i 'm sure they do pretty good at that - it take real dog determination and literally hour of free-ish time to actually get an issue resolve with any large corp . but why not just be like `` we do n't have any customer support , sorry '' or even `` pay u $ 100 / month to get customer support and it will be real '' ? no one over the age of four believe that a real human name darenze ever touch that `` chat '' .\n"
     ]
    }
   ],
   "source": [
    "for content in ride_hailing_wrongly_classified[\"body\"].head(20): \n",
    "    print(content)"
   ]
  },
  {
   "cell_type": "markdown",
   "metadata": {},
   "source": [
    "Mirroring our prior analysis and setting aside irrelevant comments, we observed that certain comments in our test set, initially misclassified as \"delivery,\" indeed pertain to delivery topics within the Uber subreddit. It's beneficial that our model could discern this. An illustrative comment fitting this category humorously states: \"As far as I know, there are only 2 delivery options: deliver to the door and hand it to me. I guess I have mine set to hide and seek. My bad.\""
   ]
  },
  {
   "cell_type": "markdown",
   "metadata": {},
   "source": [
    "### 4. Putting our classifier into action and conclusion"
   ]
  },
  {
   "cell_type": "markdown",
   "metadata": {},
   "source": [
    "#### 4.1. Putting our classifier into action"
   ]
  },
  {
   "cell_type": "markdown",
   "metadata": {},
   "source": [
    "As part of this project, the team has manually seperated the 414 grab reviews on google play store manually into their respective service types. The file is available in our dataset folder named: `grab_review_testset.csv`"
   ]
  },
  {
   "cell_type": "markdown",
   "metadata": {},
   "source": [
    "We will read the file and perform transformation prior to fitting the model onto our data and assess the performance. "
   ]
  },
  {
   "cell_type": "code",
   "execution_count": 39,
   "metadata": {},
   "outputs": [],
   "source": [
    "df_grab = pd.read_csv(\"../datasets/grab_review_testset.csv\")"
   ]
  },
  {
   "cell_type": "markdown",
   "metadata": {},
   "source": [
    "We need to pre-process our grab review before fitting into our selected model via the below steps:  \n",
    "1. replace \"grabfood\" and \"grab\" with \"ubereats\" and \"uber\" respectively for models' evaluation. \n",
    "2. lemmatize the content "
   ]
  },
  {
   "cell_type": "code",
   "execution_count": 57,
   "metadata": {},
   "outputs": [],
   "source": [
    "# define functions to lemmatize our content\n",
    "\n",
    "def get_wordnet_pos(word):\n",
    "    tag = nltk.pos_tag([word])[0][1][0].upper()\n",
    "    tag_dict = {\"J\": wordnet.ADJ,\n",
    "                \"N\": wordnet.NOUN,\n",
    "                \"V\": wordnet.VERB,\n",
    "                \"R\": wordnet.ADV}\n",
    "\n",
    "    return tag_dict.get(tag, wordnet.NOUN)\n",
    "\n",
    "def lemmatize_sentence(sentence):\n",
    "    words = word_tokenize(sentence)\n",
    "    list_lemmatized_words = [(lemmatizer.lemmatize(word, get_wordnet_pos(word))).lower() for word in words]\n",
    "    return ' '.join(list_lemmatized_words)\n",
    "\n",
    "# replace \"grabfood\" and \"grab\" to their equivalent terms in the model\n",
    "\n",
    "df_grab[\"content\"] = df_grab[\"content\"].str.lower().str.replace(\"grabfood\", \"ubereats\", regex=False)\n",
    "df_grab[\"content\"] = df_grab[\"content\"].str.lower().str.replace(\"grab food\", \"ubereats\", regex=False)\n",
    "df_grab[\"content\"] = df_grab[\"content\"].str.lower().str.replace(\"grab\", \"uber\", regex=False)\n",
    "\n",
    "# lemmatize the content to fit to model\n",
    "\n",
    "lemmatizer = WordNetLemmatizer()\n",
    "lemmatize_grab_text = [lemmatize_sentence(sentence) for sentence in df_grab[\"content\"]]"
   ]
  },
  {
   "cell_type": "markdown",
   "metadata": {},
   "source": [
    "Define our X and y to fit to model"
   ]
  },
  {
   "cell_type": "code",
   "execution_count": 58,
   "metadata": {},
   "outputs": [
    {
     "name": "stdout",
     "output_type": "stream",
     "text": [
      "test score: 0.8236714975845411\n"
     ]
    }
   ],
   "source": [
    "X_grab = lemmatize_grab_text\n",
    "y_grab = df_grab[\"label\"]\n",
    "print(f\"test score: {model.score(X_grab, y_grab)}\")"
   ]
  },
  {
   "cell_type": "markdown",
   "metadata": {},
   "source": [
    "Generate the confusion matrix and evaluation metrics"
   ]
  },
  {
   "cell_type": "code",
   "execution_count": 59,
   "metadata": {},
   "outputs": [
    {
     "name": "stdout",
     "output_type": "stream",
     "text": [
      "Sensitivity (True Positive Rate): 0.8104575163398693\n",
      "Specificity (True Negative Rate): 0.8314176245210728\n",
      "Precision: 0.7380952380952381\n",
      "Accuracy: 0.8236714975845411\n"
     ]
    },
    {
     "data": {
      "image/png": "[encoded data removed]",
      "text/plain": [
       "<Figure size 640x480 with 2 Axes>"
      ]
     },
     "metadata": {},
     "output_type": "display_data"
    }
   ],
   "source": [
    "preds = model.predict(X_grab)\n",
    "\n",
    "# Save confusion matrix values\n",
    "tn, fp, fn, tp = confusion_matrix(y_grab, preds).ravel()\n",
    "\n",
    "cm = confusion_matrix(y_grab, preds)\n",
    "\n",
    "disp =ConfusionMatrixDisplay(confusion_matrix=cm, \n",
    "                             display_labels=model.classes_)\n",
    "disp.plot()\n",
    "\n",
    "sensitivity, specificity, precision, accuracy = calculate_metrics(cm)\n",
    "\n",
    "print(\"Sensitivity (True Positive Rate):\", sensitivity)\n",
    "print(\"Specificity (True Negative Rate):\", specificity)\n",
    "print(\"Precision:\", precision)\n",
    "print(\"Accuracy:\", accuracy)"
   ]
  },
  {
   "cell_type": "markdown",
   "metadata": {},
   "source": [
    "\n",
    "The model exhibits solid accuracy (82.37%) and balances well between sensitivity (81.05%) and specificity (83.14%), indicating effective identification of both positive and negative cases. We will further evaluate our models' wrong predictions to learn on the shortcomings in the following section. "
   ]
  },
  {
   "cell_type": "markdown",
   "metadata": {},
   "source": [
    "#### 4.2. Conclusion and Recommendations"
   ]
  },
  {
   "cell_type": "markdown",
   "metadata": {},
   "source": [
    "After our model evaluation and EDA, we have successful identified a countvectorized multinomial naive bayes model as our selected model with an accuracy score of 77.7% on test data.\n",
    "We further validate our model for the use case with real app reviews from the google play store and assess the suitability of this model for our use case. We managed to achieve an accuracy score of 82.37% (better than our test score of 77.7%).   \n",
    "  \n",
    "The results is promising but we should also recognize that the model is not perfect. The below can help to improve the experience of our end users:\n",
    "1. Discover better training data that can gives us better prediction. This can be done by scrapping for more localized content such as hardware zone since there are fundamental linguistic differences between countries Uber operate in vs SouthEast Asia.  \n",
    "  \n",
    "2. Similar to subreddit, app review comments contains uninformative reviews such as \"i like him\" which can be filtered out prior to classification. This will also ensure our end users get better quality data for analysis. One of the next steps can be to develop a classifier to identify such cases. \n",
    "\n",
    "3. Recommend implementing a classifier capable of detecting not only binary discrete results but also multiple discrete outcomes. This enhanced classifier would not only differentiate between ride-hailing and delivery services but also consider overall app performance. By incorporating this multi-class classification approach, we can provide more comprehensive insights into customer feedback, enabling Grab to address specific issues related to each service while simultaneously improving overall app functionality and user experience. Additionally, deploying advanced natural language processing techniques could further refine the classifier's accuracy and effectiveness in handling diverse customer feedback scenarios.\n",
    "\n",
    "All in all, even though this model is not perfect, an accuracy score of 77.7% against our initial baseline model that only predicts the majority with an accuracy of 52.4% is a good step towards helping our target audience (the product managers) automate the classification process. \n",
    "\n"
   ]
  }
 ],
 "metadata": {
  "kernelspec": {
   "display_name": "Python 3",
   "language": "python",
   "name": "python3"
  },
  "language_info": {
   "codemirror_mode": {
    "name": "ipython",
    "version": 3
   },
   "file_extension": ".py",
   "mimetype": "text/x-python",
   "name": "python",
   "nbconvert_exporter": "python",
   "pygments_lexer": "ipython3",
   "version": "3.12.2"
  }
 },
 "nbformat": 4,
 "nbformat_minor": 2
}
