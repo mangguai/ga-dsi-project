{
 "cells": [
  {
   "cell_type": "markdown",
   "metadata": {},
   "source": [
    "<img src=\"http://imgur.com/1ZcRyrc.png\" style=\"float: left; margin: 20px; height: 55px\">\n",
    "\n",
    "# Lab 3.02: Statistical Modeling and Model Validation\n",
    "\n",
    "> Authors: Tim Book, Matt Brems\n",
    "\n",
    "---"
   ]
  },
  {
   "cell_type": "markdown",
   "metadata": {},
   "source": [
    "## Objective\n",
    "The goal of this lab is to guide you through the modeling workflow to produce the best model you can. In this lesson, you will follow all best practices when slicing your data and validating your model. "
   ]
  },
  {
   "cell_type": "markdown",
   "metadata": {},
   "source": [
    "## Imports"
   ]
  },
  {
   "cell_type": "code",
   "execution_count": 1,
   "metadata": {},
   "outputs": [],
   "source": [
    "# Import everything you need here.\n",
    "# You may want to return to this cell to import more things later in the lab.\n",
    "# DO NOT COPY AND PASTE FROM OUR CLASS SLIDES!\n",
    "# Muscle memory is important!\n",
    "import pandas as pd\n",
    "import numpy as np\n",
    "from scipy.stats import ttest_ind\n",
    "from sklearn.model_selection import train_test_split\n",
    "from sklearn.linear_model import LinearRegression\n",
    "from sklearn.metrics import r2_score, mean_squared_error\n",
    "\n",
    "import matplotlib.pyplot as plt\n",
    "\n",
    "import statsmodels.api as sm\n",
    "\n",
    "%matplotlib inline"
   ]
  },
  {
   "cell_type": "markdown",
   "metadata": {},
   "source": [
    "## Read Data\n",
    "The `citibike` dataset consists of Citi Bike ridership data for over 224,000 rides in February 2014."
   ]
  },
  {
   "cell_type": "code",
   "execution_count": 2,
   "metadata": {},
   "outputs": [],
   "source": [
    "# Read in the citibike data in the data folder in this repository.\n",
    "citibike = pd.read_csv('data/citibike_feb2014.csv')"
   ]
  },
  {
   "cell_type": "markdown",
   "metadata": {},
   "source": [
    "## Explore the data\n",
    "Use this space to familiarize yourself with the data.\n",
    "\n",
    "Convince yourself there are no issues with the data. If you find any issues, clean them here."
   ]
  },
  {
   "cell_type": "code",
   "execution_count": 3,
   "metadata": {},
   "outputs": [
    {
     "data": {
      "text/html": [
       "<div>\n",
       "<style scoped>\n",
       "    .dataframe tbody tr th:only-of-type {\n",
       "        vertical-align: middle;\n",
       "    }\n",
       "\n",
       "    .dataframe tbody tr th {\n",
       "        vertical-align: top;\n",
       "    }\n",
       "\n",
       "    .dataframe thead th {\n",
       "        text-align: right;\n",
       "    }\n",
       "</style>\n",
       "<table border=\"1\" class=\"dataframe\">\n",
       "  <thead>\n",
       "    <tr style=\"text-align: right;\">\n",
       "      <th></th>\n",
       "      <th>tripduration</th>\n",
       "      <th>starttime</th>\n",
       "      <th>stoptime</th>\n",
       "      <th>start station id</th>\n",
       "      <th>start station name</th>\n",
       "      <th>start station latitude</th>\n",
       "      <th>start station longitude</th>\n",
       "      <th>end station id</th>\n",
       "      <th>end station name</th>\n",
       "      <th>end station latitude</th>\n",
       "      <th>end station longitude</th>\n",
       "      <th>bikeid</th>\n",
       "      <th>usertype</th>\n",
       "      <th>birth year</th>\n",
       "      <th>gender</th>\n",
       "    </tr>\n",
       "  </thead>\n",
       "  <tbody>\n",
       "    <tr>\n",
       "      <th>0</th>\n",
       "      <td>382</td>\n",
       "      <td>2014-02-01 00:00:00</td>\n",
       "      <td>2014-02-01 00:06:22</td>\n",
       "      <td>294</td>\n",
       "      <td>Washington Square E</td>\n",
       "      <td>40.730494</td>\n",
       "      <td>-73.995721</td>\n",
       "      <td>265</td>\n",
       "      <td>Stanton St &amp; Chrystie St</td>\n",
       "      <td>40.722293</td>\n",
       "      <td>-73.991475</td>\n",
       "      <td>21101</td>\n",
       "      <td>Subscriber</td>\n",
       "      <td>1991</td>\n",
       "      <td>1</td>\n",
       "    </tr>\n",
       "    <tr>\n",
       "      <th>1</th>\n",
       "      <td>372</td>\n",
       "      <td>2014-02-01 00:00:03</td>\n",
       "      <td>2014-02-01 00:06:15</td>\n",
       "      <td>285</td>\n",
       "      <td>Broadway &amp; E 14 St</td>\n",
       "      <td>40.734546</td>\n",
       "      <td>-73.990741</td>\n",
       "      <td>439</td>\n",
       "      <td>E 4 St &amp; 2 Ave</td>\n",
       "      <td>40.726281</td>\n",
       "      <td>-73.989780</td>\n",
       "      <td>15456</td>\n",
       "      <td>Subscriber</td>\n",
       "      <td>1979</td>\n",
       "      <td>2</td>\n",
       "    </tr>\n",
       "    <tr>\n",
       "      <th>2</th>\n",
       "      <td>591</td>\n",
       "      <td>2014-02-01 00:00:09</td>\n",
       "      <td>2014-02-01 00:10:00</td>\n",
       "      <td>247</td>\n",
       "      <td>Perry St &amp; Bleecker St</td>\n",
       "      <td>40.735354</td>\n",
       "      <td>-74.004831</td>\n",
       "      <td>251</td>\n",
       "      <td>Mott St &amp; Prince St</td>\n",
       "      <td>40.723180</td>\n",
       "      <td>-73.994800</td>\n",
       "      <td>16281</td>\n",
       "      <td>Subscriber</td>\n",
       "      <td>1948</td>\n",
       "      <td>2</td>\n",
       "    </tr>\n",
       "    <tr>\n",
       "      <th>3</th>\n",
       "      <td>583</td>\n",
       "      <td>2014-02-01 00:00:32</td>\n",
       "      <td>2014-02-01 00:10:15</td>\n",
       "      <td>357</td>\n",
       "      <td>E 11 St &amp; Broadway</td>\n",
       "      <td>40.732618</td>\n",
       "      <td>-73.991580</td>\n",
       "      <td>284</td>\n",
       "      <td>Greenwich Ave &amp; 8 Ave</td>\n",
       "      <td>40.739017</td>\n",
       "      <td>-74.002638</td>\n",
       "      <td>17400</td>\n",
       "      <td>Subscriber</td>\n",
       "      <td>1981</td>\n",
       "      <td>1</td>\n",
       "    </tr>\n",
       "    <tr>\n",
       "      <th>4</th>\n",
       "      <td>223</td>\n",
       "      <td>2014-02-01 00:00:41</td>\n",
       "      <td>2014-02-01 00:04:24</td>\n",
       "      <td>401</td>\n",
       "      <td>Allen St &amp; Rivington St</td>\n",
       "      <td>40.720196</td>\n",
       "      <td>-73.989978</td>\n",
       "      <td>439</td>\n",
       "      <td>E 4 St &amp; 2 Ave</td>\n",
       "      <td>40.726281</td>\n",
       "      <td>-73.989780</td>\n",
       "      <td>19341</td>\n",
       "      <td>Subscriber</td>\n",
       "      <td>1990</td>\n",
       "      <td>1</td>\n",
       "    </tr>\n",
       "  </tbody>\n",
       "</table>\n",
       "</div>"
      ],
      "text/plain": [
       "   tripduration            starttime             stoptime  start station id  \\\n",
       "0           382  2014-02-01 00:00:00  2014-02-01 00:06:22               294   \n",
       "1           372  2014-02-01 00:00:03  2014-02-01 00:06:15               285   \n",
       "2           591  2014-02-01 00:00:09  2014-02-01 00:10:00               247   \n",
       "3           583  2014-02-01 00:00:32  2014-02-01 00:10:15               357   \n",
       "4           223  2014-02-01 00:00:41  2014-02-01 00:04:24               401   \n",
       "\n",
       "        start station name  start station latitude  start station longitude  \\\n",
       "0      Washington Square E               40.730494               -73.995721   \n",
       "1       Broadway & E 14 St               40.734546               -73.990741   \n",
       "2   Perry St & Bleecker St               40.735354               -74.004831   \n",
       "3       E 11 St & Broadway               40.732618               -73.991580   \n",
       "4  Allen St & Rivington St               40.720196               -73.989978   \n",
       "\n",
       "   end station id          end station name  end station latitude  \\\n",
       "0             265  Stanton St & Chrystie St             40.722293   \n",
       "1             439            E 4 St & 2 Ave             40.726281   \n",
       "2             251       Mott St & Prince St             40.723180   \n",
       "3             284     Greenwich Ave & 8 Ave             40.739017   \n",
       "4             439            E 4 St & 2 Ave             40.726281   \n",
       "\n",
       "   end station longitude  bikeid    usertype birth year  gender  \n",
       "0             -73.991475   21101  Subscriber       1991       1  \n",
       "1             -73.989780   15456  Subscriber       1979       2  \n",
       "2             -73.994800   16281  Subscriber       1948       2  \n",
       "3             -74.002638   17400  Subscriber       1981       1  \n",
       "4             -73.989780   19341  Subscriber       1990       1  "
      ]
     },
     "execution_count": 3,
     "metadata": {},
     "output_type": "execute_result"
    }
   ],
   "source": [
    "# Check first five rows.\n",
    "citibike.head()"
   ]
  },
  {
   "cell_type": "code",
   "execution_count": 4,
   "metadata": {},
   "outputs": [
    {
     "name": "stdout",
     "output_type": "stream",
     "text": [
      "<class 'pandas.core.frame.DataFrame'>\n",
      "RangeIndex: 224736 entries, 0 to 224735\n",
      "Data columns (total 15 columns):\n",
      " #   Column                   Non-Null Count   Dtype  \n",
      "---  ------                   --------------   -----  \n",
      " 0   tripduration             224736 non-null  int64  \n",
      " 1   starttime                224736 non-null  object \n",
      " 2   stoptime                 224736 non-null  object \n",
      " 3   start station id         224736 non-null  int64  \n",
      " 4   start station name       224736 non-null  object \n",
      " 5   start station latitude   224736 non-null  float64\n",
      " 6   start station longitude  224736 non-null  float64\n",
      " 7   end station id           224736 non-null  int64  \n",
      " 8   end station name         224736 non-null  object \n",
      " 9   end station latitude     224736 non-null  float64\n",
      " 10  end station longitude    224736 non-null  float64\n",
      " 11  bikeid                   224736 non-null  int64  \n",
      " 12  usertype                 224736 non-null  object \n",
      " 13  birth year               224736 non-null  object \n",
      " 14  gender                   224736 non-null  int64  \n",
      "dtypes: float64(4), int64(5), object(6)\n",
      "memory usage: 25.7+ MB\n"
     ]
    }
   ],
   "source": [
    "citibike.info()"
   ]
  },
  {
   "cell_type": "code",
   "execution_count": 5,
   "metadata": {},
   "outputs": [
    {
     "data": {
      "text/html": [
       "<div>\n",
       "<style scoped>\n",
       "    .dataframe tbody tr th:only-of-type {\n",
       "        vertical-align: middle;\n",
       "    }\n",
       "\n",
       "    .dataframe tbody tr th {\n",
       "        vertical-align: top;\n",
       "    }\n",
       "\n",
       "    .dataframe thead th {\n",
       "        text-align: right;\n",
       "    }\n",
       "</style>\n",
       "<table border=\"1\" class=\"dataframe\">\n",
       "  <thead>\n",
       "    <tr style=\"text-align: right;\">\n",
       "      <th></th>\n",
       "      <th>tripduration</th>\n",
       "      <th>starttime</th>\n",
       "      <th>stoptime</th>\n",
       "      <th>start station id</th>\n",
       "      <th>start station name</th>\n",
       "      <th>start station latitude</th>\n",
       "      <th>start station longitude</th>\n",
       "      <th>end station id</th>\n",
       "      <th>end station name</th>\n",
       "      <th>end station latitude</th>\n",
       "      <th>end station longitude</th>\n",
       "      <th>bikeid</th>\n",
       "      <th>usertype</th>\n",
       "      <th>birth year</th>\n",
       "      <th>gender</th>\n",
       "    </tr>\n",
       "  </thead>\n",
       "  <tbody>\n",
       "    <tr>\n",
       "      <th>count</th>\n",
       "      <td>224736.000000</td>\n",
       "      <td>224736</td>\n",
       "      <td>224736</td>\n",
       "      <td>224736.000000</td>\n",
       "      <td>224736</td>\n",
       "      <td>224736.000000</td>\n",
       "      <td>224736.000000</td>\n",
       "      <td>224736.000000</td>\n",
       "      <td>224736</td>\n",
       "      <td>224736.000000</td>\n",
       "      <td>224736.000000</td>\n",
       "      <td>224736.000000</td>\n",
       "      <td>224736</td>\n",
       "      <td>224736</td>\n",
       "      <td>224736.000000</td>\n",
       "    </tr>\n",
       "    <tr>\n",
       "      <th>unique</th>\n",
       "      <td>NaN</td>\n",
       "      <td>204437</td>\n",
       "      <td>204781</td>\n",
       "      <td>NaN</td>\n",
       "      <td>329</td>\n",
       "      <td>NaN</td>\n",
       "      <td>NaN</td>\n",
       "      <td>NaN</td>\n",
       "      <td>329</td>\n",
       "      <td>NaN</td>\n",
       "      <td>NaN</td>\n",
       "      <td>NaN</td>\n",
       "      <td>2</td>\n",
       "      <td>78</td>\n",
       "      <td>NaN</td>\n",
       "    </tr>\n",
       "    <tr>\n",
       "      <th>top</th>\n",
       "      <td>NaN</td>\n",
       "      <td>2014-02-11 08:50:10</td>\n",
       "      <td>2014-02-25 08:47:55</td>\n",
       "      <td>NaN</td>\n",
       "      <td>Lafayette St &amp; E 8 St</td>\n",
       "      <td>NaN</td>\n",
       "      <td>NaN</td>\n",
       "      <td>NaN</td>\n",
       "      <td>Lafayette St &amp; E 8 St</td>\n",
       "      <td>NaN</td>\n",
       "      <td>NaN</td>\n",
       "      <td>NaN</td>\n",
       "      <td>Subscriber</td>\n",
       "      <td>1985</td>\n",
       "      <td>NaN</td>\n",
       "    </tr>\n",
       "    <tr>\n",
       "      <th>freq</th>\n",
       "      <td>NaN</td>\n",
       "      <td>7</td>\n",
       "      <td>6</td>\n",
       "      <td>NaN</td>\n",
       "      <td>2920</td>\n",
       "      <td>NaN</td>\n",
       "      <td>NaN</td>\n",
       "      <td>NaN</td>\n",
       "      <td>2622</td>\n",
       "      <td>NaN</td>\n",
       "      <td>NaN</td>\n",
       "      <td>NaN</td>\n",
       "      <td>218019</td>\n",
       "      <td>9305</td>\n",
       "      <td>NaN</td>\n",
       "    </tr>\n",
       "    <tr>\n",
       "      <th>mean</th>\n",
       "      <td>874.519810</td>\n",
       "      <td>NaN</td>\n",
       "      <td>NaN</td>\n",
       "      <td>439.203479</td>\n",
       "      <td>NaN</td>\n",
       "      <td>40.734366</td>\n",
       "      <td>-73.990386</td>\n",
       "      <td>440.741995</td>\n",
       "      <td>NaN</td>\n",
       "      <td>40.734221</td>\n",
       "      <td>-73.990521</td>\n",
       "      <td>18010.598222</td>\n",
       "      <td>NaN</td>\n",
       "      <td>NaN</td>\n",
       "      <td>1.154617</td>\n",
       "    </tr>\n",
       "    <tr>\n",
       "      <th>std</th>\n",
       "      <td>5486.092219</td>\n",
       "      <td>NaN</td>\n",
       "      <td>NaN</td>\n",
       "      <td>335.723861</td>\n",
       "      <td>NaN</td>\n",
       "      <td>0.019031</td>\n",
       "      <td>0.011853</td>\n",
       "      <td>341.497433</td>\n",
       "      <td>NaN</td>\n",
       "      <td>0.019048</td>\n",
       "      <td>0.011920</td>\n",
       "      <td>1987.769335</td>\n",
       "      <td>NaN</td>\n",
       "      <td>NaN</td>\n",
       "      <td>0.436592</td>\n",
       "    </tr>\n",
       "    <tr>\n",
       "      <th>min</th>\n",
       "      <td>60.000000</td>\n",
       "      <td>NaN</td>\n",
       "      <td>NaN</td>\n",
       "      <td>72.000000</td>\n",
       "      <td>NaN</td>\n",
       "      <td>40.680342</td>\n",
       "      <td>-74.017134</td>\n",
       "      <td>72.000000</td>\n",
       "      <td>NaN</td>\n",
       "      <td>40.680342</td>\n",
       "      <td>-74.017134</td>\n",
       "      <td>14529.000000</td>\n",
       "      <td>NaN</td>\n",
       "      <td>NaN</td>\n",
       "      <td>0.000000</td>\n",
       "    </tr>\n",
       "    <tr>\n",
       "      <th>25%</th>\n",
       "      <td>360.000000</td>\n",
       "      <td>NaN</td>\n",
       "      <td>NaN</td>\n",
       "      <td>305.000000</td>\n",
       "      <td>NaN</td>\n",
       "      <td>40.721854</td>\n",
       "      <td>-73.998522</td>\n",
       "      <td>305.000000</td>\n",
       "      <td>NaN</td>\n",
       "      <td>40.721816</td>\n",
       "      <td>-73.999061</td>\n",
       "      <td>16302.000000</td>\n",
       "      <td>NaN</td>\n",
       "      <td>NaN</td>\n",
       "      <td>1.000000</td>\n",
       "    </tr>\n",
       "    <tr>\n",
       "      <th>50%</th>\n",
       "      <td>544.000000</td>\n",
       "      <td>NaN</td>\n",
       "      <td>NaN</td>\n",
       "      <td>403.000000</td>\n",
       "      <td>NaN</td>\n",
       "      <td>40.736197</td>\n",
       "      <td>-73.990617</td>\n",
       "      <td>403.000000</td>\n",
       "      <td>NaN</td>\n",
       "      <td>40.735877</td>\n",
       "      <td>-73.990741</td>\n",
       "      <td>17975.000000</td>\n",
       "      <td>NaN</td>\n",
       "      <td>NaN</td>\n",
       "      <td>1.000000</td>\n",
       "    </tr>\n",
       "    <tr>\n",
       "      <th>75%</th>\n",
       "      <td>845.000000</td>\n",
       "      <td>NaN</td>\n",
       "      <td>NaN</td>\n",
       "      <td>490.000000</td>\n",
       "      <td>NaN</td>\n",
       "      <td>40.749156</td>\n",
       "      <td>-73.981918</td>\n",
       "      <td>488.000000</td>\n",
       "      <td>NaN</td>\n",
       "      <td>40.749013</td>\n",
       "      <td>-73.981948</td>\n",
       "      <td>19689.000000</td>\n",
       "      <td>NaN</td>\n",
       "      <td>NaN</td>\n",
       "      <td>1.000000</td>\n",
       "    </tr>\n",
       "    <tr>\n",
       "      <th>max</th>\n",
       "      <td>766108.000000</td>\n",
       "      <td>NaN</td>\n",
       "      <td>NaN</td>\n",
       "      <td>3002.000000</td>\n",
       "      <td>NaN</td>\n",
       "      <td>40.770513</td>\n",
       "      <td>-73.950048</td>\n",
       "      <td>3002.000000</td>\n",
       "      <td>NaN</td>\n",
       "      <td>40.770513</td>\n",
       "      <td>-73.950048</td>\n",
       "      <td>21542.000000</td>\n",
       "      <td>NaN</td>\n",
       "      <td>NaN</td>\n",
       "      <td>2.000000</td>\n",
       "    </tr>\n",
       "  </tbody>\n",
       "</table>\n",
       "</div>"
      ],
      "text/plain": [
       "         tripduration            starttime             stoptime  \\\n",
       "count   224736.000000               224736               224736   \n",
       "unique            NaN               204437               204781   \n",
       "top               NaN  2014-02-11 08:50:10  2014-02-25 08:47:55   \n",
       "freq              NaN                    7                    6   \n",
       "mean       874.519810                  NaN                  NaN   \n",
       "std       5486.092219                  NaN                  NaN   \n",
       "min         60.000000                  NaN                  NaN   \n",
       "25%        360.000000                  NaN                  NaN   \n",
       "50%        544.000000                  NaN                  NaN   \n",
       "75%        845.000000                  NaN                  NaN   \n",
       "max     766108.000000                  NaN                  NaN   \n",
       "\n",
       "        start station id     start station name  start station latitude  \\\n",
       "count      224736.000000                 224736           224736.000000   \n",
       "unique               NaN                    329                     NaN   \n",
       "top                  NaN  Lafayette St & E 8 St                     NaN   \n",
       "freq                 NaN                   2920                     NaN   \n",
       "mean          439.203479                    NaN               40.734366   \n",
       "std           335.723861                    NaN                0.019031   \n",
       "min            72.000000                    NaN               40.680342   \n",
       "25%           305.000000                    NaN               40.721854   \n",
       "50%           403.000000                    NaN               40.736197   \n",
       "75%           490.000000                    NaN               40.749156   \n",
       "max          3002.000000                    NaN               40.770513   \n",
       "\n",
       "        start station longitude  end station id       end station name  \\\n",
       "count             224736.000000   224736.000000                 224736   \n",
       "unique                      NaN             NaN                    329   \n",
       "top                         NaN             NaN  Lafayette St & E 8 St   \n",
       "freq                        NaN             NaN                   2622   \n",
       "mean                 -73.990386      440.741995                    NaN   \n",
       "std                    0.011853      341.497433                    NaN   \n",
       "min                  -74.017134       72.000000                    NaN   \n",
       "25%                  -73.998522      305.000000                    NaN   \n",
       "50%                  -73.990617      403.000000                    NaN   \n",
       "75%                  -73.981918      488.000000                    NaN   \n",
       "max                  -73.950048     3002.000000                    NaN   \n",
       "\n",
       "        end station latitude  end station longitude         bikeid  \\\n",
       "count          224736.000000          224736.000000  224736.000000   \n",
       "unique                   NaN                    NaN            NaN   \n",
       "top                      NaN                    NaN            NaN   \n",
       "freq                     NaN                    NaN            NaN   \n",
       "mean               40.734221             -73.990521   18010.598222   \n",
       "std                 0.019048               0.011920    1987.769335   \n",
       "min                40.680342             -74.017134   14529.000000   \n",
       "25%                40.721816             -73.999061   16302.000000   \n",
       "50%                40.735877             -73.990741   17975.000000   \n",
       "75%                40.749013             -73.981948   19689.000000   \n",
       "max                40.770513             -73.950048   21542.000000   \n",
       "\n",
       "          usertype birth year         gender  \n",
       "count       224736     224736  224736.000000  \n",
       "unique           2         78            NaN  \n",
       "top     Subscriber       1985            NaN  \n",
       "freq        218019       9305            NaN  \n",
       "mean           NaN        NaN       1.154617  \n",
       "std            NaN        NaN       0.436592  \n",
       "min            NaN        NaN       0.000000  \n",
       "25%            NaN        NaN       1.000000  \n",
       "50%            NaN        NaN       1.000000  \n",
       "75%            NaN        NaN       1.000000  \n",
       "max            NaN        NaN       2.000000  "
      ]
     },
     "execution_count": 5,
     "metadata": {},
     "output_type": "execute_result"
    }
   ],
   "source": [
    "citibike.describe(include='all')"
   ]
  },
  {
   "cell_type": "code",
   "execution_count": 6,
   "metadata": {},
   "outputs": [
    {
     "data": {
      "text/plain": [
       "tripduration               0\n",
       "starttime                  0\n",
       "stoptime                   0\n",
       "start station id           0\n",
       "start station name         0\n",
       "start station latitude     0\n",
       "start station longitude    0\n",
       "end station id             0\n",
       "end station name           0\n",
       "end station latitude       0\n",
       "end station longitude      0\n",
       "bikeid                     0\n",
       "usertype                   0\n",
       "birth year                 0\n",
       "gender                     0\n",
       "dtype: int64"
      ]
     },
     "execution_count": 6,
     "metadata": {},
     "output_type": "execute_result"
    }
   ],
   "source": [
    "citibike.isnull().sum()"
   ]
  },
  {
   "cell_type": "markdown",
   "metadata": {},
   "source": [
    "## Is average trip duration different by gender?\n",
    "\n",
    "Conduct a hypothesis test that checks whether or not the average trip duration is different for `gender=1` and `gender=2`. Be sure to specify your null and alternative hypotheses, and to state your conclusion carefully and correctly!"
   ]
  },
  {
   "cell_type": "code",
   "execution_count": 7,
   "metadata": {},
   "outputs": [
    {
     "data": {
      "text/plain": [
       "TtestResult(statistic=-5.929304472651931, pvalue=3.046762685660303e-09, df=218003.0)"
      ]
     },
     "execution_count": 7,
     "metadata": {},
     "output_type": "execute_result"
    }
   ],
   "source": [
    "ttest_ind(citibike[citibike['gender'] == 1]['tripduration'], \n",
    "          citibike[citibike['gender'] == 2]['tripduration'])"
   ]
  },
  {
   "cell_type": "markdown",
   "metadata": {},
   "source": [
    "**Answer**: Our $t$-statistic is -5.93 and our $p$-value is very, very small. Because $p$ is smaller than $\\alpha$, we reject our null hypothesis and accept that $\\mu_1 \\neq \\mu_2$. This means that we accept that the average trip duration is different for `gender=1` and `gender=2`."
   ]
  },
  {
   "cell_type": "markdown",
   "metadata": {},
   "source": [
    "## What numeric columns shouldn't be treated as numeric?"
   ]
  },
  {
   "cell_type": "markdown",
   "metadata": {},
   "source": [
    "**Answer:** `start station id`, `end station id`, and `bikeid`"
   ]
  },
  {
   "cell_type": "markdown",
   "metadata": {},
   "source": [
    "## Dummify the `start station id` Variable"
   ]
  },
  {
   "cell_type": "code",
   "execution_count": 8,
   "metadata": {},
   "outputs": [
    {
     "data": {
      "text/html": [
       "<div>\n",
       "<style scoped>\n",
       "    .dataframe tbody tr th:only-of-type {\n",
       "        vertical-align: middle;\n",
       "    }\n",
       "\n",
       "    .dataframe tbody tr th {\n",
       "        vertical-align: top;\n",
       "    }\n",
       "\n",
       "    .dataframe thead th {\n",
       "        text-align: right;\n",
       "    }\n",
       "</style>\n",
       "<table border=\"1\" class=\"dataframe\">\n",
       "  <thead>\n",
       "    <tr style=\"text-align: right;\">\n",
       "      <th></th>\n",
       "      <th>tripduration</th>\n",
       "      <th>starttime</th>\n",
       "      <th>stoptime</th>\n",
       "      <th>start station name</th>\n",
       "      <th>start station latitude</th>\n",
       "      <th>start station longitude</th>\n",
       "      <th>end station id</th>\n",
       "      <th>end station name</th>\n",
       "      <th>end station latitude</th>\n",
       "      <th>end station longitude</th>\n",
       "      <th>...</th>\n",
       "      <th>start station id_2006</th>\n",
       "      <th>start station id_2008</th>\n",
       "      <th>start station id_2009</th>\n",
       "      <th>start station id_2010</th>\n",
       "      <th>start station id_2012</th>\n",
       "      <th>start station id_2017</th>\n",
       "      <th>start station id_2021</th>\n",
       "      <th>start station id_2022</th>\n",
       "      <th>start station id_2023</th>\n",
       "      <th>start station id_3002</th>\n",
       "    </tr>\n",
       "  </thead>\n",
       "  <tbody>\n",
       "    <tr>\n",
       "      <th>0</th>\n",
       "      <td>382</td>\n",
       "      <td>2014-02-01 00:00:00</td>\n",
       "      <td>2014-02-01 00:06:22</td>\n",
       "      <td>Washington Square E</td>\n",
       "      <td>40.730494</td>\n",
       "      <td>-73.995721</td>\n",
       "      <td>265</td>\n",
       "      <td>Stanton St &amp; Chrystie St</td>\n",
       "      <td>40.722293</td>\n",
       "      <td>-73.991475</td>\n",
       "      <td>...</td>\n",
       "      <td>False</td>\n",
       "      <td>False</td>\n",
       "      <td>False</td>\n",
       "      <td>False</td>\n",
       "      <td>False</td>\n",
       "      <td>False</td>\n",
       "      <td>False</td>\n",
       "      <td>False</td>\n",
       "      <td>False</td>\n",
       "      <td>False</td>\n",
       "    </tr>\n",
       "    <tr>\n",
       "      <th>1</th>\n",
       "      <td>372</td>\n",
       "      <td>2014-02-01 00:00:03</td>\n",
       "      <td>2014-02-01 00:06:15</td>\n",
       "      <td>Broadway &amp; E 14 St</td>\n",
       "      <td>40.734546</td>\n",
       "      <td>-73.990741</td>\n",
       "      <td>439</td>\n",
       "      <td>E 4 St &amp; 2 Ave</td>\n",
       "      <td>40.726281</td>\n",
       "      <td>-73.989780</td>\n",
       "      <td>...</td>\n",
       "      <td>False</td>\n",
       "      <td>False</td>\n",
       "      <td>False</td>\n",
       "      <td>False</td>\n",
       "      <td>False</td>\n",
       "      <td>False</td>\n",
       "      <td>False</td>\n",
       "      <td>False</td>\n",
       "      <td>False</td>\n",
       "      <td>False</td>\n",
       "    </tr>\n",
       "    <tr>\n",
       "      <th>2</th>\n",
       "      <td>591</td>\n",
       "      <td>2014-02-01 00:00:09</td>\n",
       "      <td>2014-02-01 00:10:00</td>\n",
       "      <td>Perry St &amp; Bleecker St</td>\n",
       "      <td>40.735354</td>\n",
       "      <td>-74.004831</td>\n",
       "      <td>251</td>\n",
       "      <td>Mott St &amp; Prince St</td>\n",
       "      <td>40.723180</td>\n",
       "      <td>-73.994800</td>\n",
       "      <td>...</td>\n",
       "      <td>False</td>\n",
       "      <td>False</td>\n",
       "      <td>False</td>\n",
       "      <td>False</td>\n",
       "      <td>False</td>\n",
       "      <td>False</td>\n",
       "      <td>False</td>\n",
       "      <td>False</td>\n",
       "      <td>False</td>\n",
       "      <td>False</td>\n",
       "    </tr>\n",
       "    <tr>\n",
       "      <th>3</th>\n",
       "      <td>583</td>\n",
       "      <td>2014-02-01 00:00:32</td>\n",
       "      <td>2014-02-01 00:10:15</td>\n",
       "      <td>E 11 St &amp; Broadway</td>\n",
       "      <td>40.732618</td>\n",
       "      <td>-73.991580</td>\n",
       "      <td>284</td>\n",
       "      <td>Greenwich Ave &amp; 8 Ave</td>\n",
       "      <td>40.739017</td>\n",
       "      <td>-74.002638</td>\n",
       "      <td>...</td>\n",
       "      <td>False</td>\n",
       "      <td>False</td>\n",
       "      <td>False</td>\n",
       "      <td>False</td>\n",
       "      <td>False</td>\n",
       "      <td>False</td>\n",
       "      <td>False</td>\n",
       "      <td>False</td>\n",
       "      <td>False</td>\n",
       "      <td>False</td>\n",
       "    </tr>\n",
       "    <tr>\n",
       "      <th>4</th>\n",
       "      <td>223</td>\n",
       "      <td>2014-02-01 00:00:41</td>\n",
       "      <td>2014-02-01 00:04:24</td>\n",
       "      <td>Allen St &amp; Rivington St</td>\n",
       "      <td>40.720196</td>\n",
       "      <td>-73.989978</td>\n",
       "      <td>439</td>\n",
       "      <td>E 4 St &amp; 2 Ave</td>\n",
       "      <td>40.726281</td>\n",
       "      <td>-73.989780</td>\n",
       "      <td>...</td>\n",
       "      <td>False</td>\n",
       "      <td>False</td>\n",
       "      <td>False</td>\n",
       "      <td>False</td>\n",
       "      <td>False</td>\n",
       "      <td>False</td>\n",
       "      <td>False</td>\n",
       "      <td>False</td>\n",
       "      <td>False</td>\n",
       "      <td>False</td>\n",
       "    </tr>\n",
       "  </tbody>\n",
       "</table>\n",
       "<p>5 rows × 342 columns</p>\n",
       "</div>"
      ],
      "text/plain": [
       "   tripduration            starttime             stoptime  \\\n",
       "0           382  2014-02-01 00:00:00  2014-02-01 00:06:22   \n",
       "1           372  2014-02-01 00:00:03  2014-02-01 00:06:15   \n",
       "2           591  2014-02-01 00:00:09  2014-02-01 00:10:00   \n",
       "3           583  2014-02-01 00:00:32  2014-02-01 00:10:15   \n",
       "4           223  2014-02-01 00:00:41  2014-02-01 00:04:24   \n",
       "\n",
       "        start station name  start station latitude  start station longitude  \\\n",
       "0      Washington Square E               40.730494               -73.995721   \n",
       "1       Broadway & E 14 St               40.734546               -73.990741   \n",
       "2   Perry St & Bleecker St               40.735354               -74.004831   \n",
       "3       E 11 St & Broadway               40.732618               -73.991580   \n",
       "4  Allen St & Rivington St               40.720196               -73.989978   \n",
       "\n",
       "   end station id          end station name  end station latitude  \\\n",
       "0             265  Stanton St & Chrystie St             40.722293   \n",
       "1             439            E 4 St & 2 Ave             40.726281   \n",
       "2             251       Mott St & Prince St             40.723180   \n",
       "3             284     Greenwich Ave & 8 Ave             40.739017   \n",
       "4             439            E 4 St & 2 Ave             40.726281   \n",
       "\n",
       "   end station longitude  ...  start station id_2006 start station id_2008  \\\n",
       "0             -73.991475  ...                  False                 False   \n",
       "1             -73.989780  ...                  False                 False   \n",
       "2             -73.994800  ...                  False                 False   \n",
       "3             -74.002638  ...                  False                 False   \n",
       "4             -73.989780  ...                  False                 False   \n",
       "\n",
       "  start station id_2009  start station id_2010  start station id_2012  \\\n",
       "0                 False                  False                  False   \n",
       "1                 False                  False                  False   \n",
       "2                 False                  False                  False   \n",
       "3                 False                  False                  False   \n",
       "4                 False                  False                  False   \n",
       "\n",
       "   start station id_2017  start station id_2021  start station id_2022  \\\n",
       "0                  False                  False                  False   \n",
       "1                  False                  False                  False   \n",
       "2                  False                  False                  False   \n",
       "3                  False                  False                  False   \n",
       "4                  False                  False                  False   \n",
       "\n",
       "   start station id_2023  start station id_3002  \n",
       "0                  False                  False  \n",
       "1                  False                  False  \n",
       "2                  False                  False  \n",
       "3                  False                  False  \n",
       "4                  False                  False  \n",
       "\n",
       "[5 rows x 342 columns]"
      ]
     },
     "execution_count": 8,
     "metadata": {},
     "output_type": "execute_result"
    }
   ],
   "source": [
    "citibike = pd.get_dummies(citibike,columns=['start station id'],drop_first=True)\n",
    "citibike.head()\n"
   ]
  },
  {
   "cell_type": "markdown",
   "metadata": {},
   "source": [
    "## Engineer a feature called `age` that shares how old the person would have been in 2014 (at the time the data was collected).\n",
    "\n",
    "- Note: you will need to clean the data a bit."
   ]
  },
  {
   "cell_type": "code",
   "execution_count": 9,
   "metadata": {},
   "outputs": [
    {
     "name": "stdout",
     "output_type": "stream",
     "text": [
      "object\n"
     ]
    }
   ],
   "source": [
    "# to check the dtype of the birth year column\n",
    "print(citibike['birth year'].dtype)"
   ]
  },
  {
   "cell_type": "code",
   "execution_count": 10,
   "metadata": {},
   "outputs": [],
   "source": [
    "# create a function to convert the numeric string to integer and non numeric to zero\n",
    "def calc_age(i):\n",
    "    try:\n",
    "        return 2014 - int(i) #try to covert object to string if it is a numeric string\n",
    "    except:\n",
    "        return np.nan #return NaN if it is not a numeric string\n",
    "\n",
    "citibike['age'] = citibike['birth year'].apply(calc_age)"
   ]
  },
  {
   "cell_type": "code",
   "execution_count": 11,
   "metadata": {},
   "outputs": [
    {
     "data": {
      "image/png": "[encoded data removed]",
      "text/plain": [
       "<Figure size 640x480 with 1 Axes>"
      ]
     },
     "metadata": {},
     "output_type": "display_data"
    }
   ],
   "source": [
    "# quick overview of all age distrubition with histogram\n",
    "citibike['age'].hist();"
   ]
  },
  {
   "cell_type": "markdown",
   "metadata": {},
   "source": [
    "## Split your data into train/test data\n",
    "\n",
    "Look at the size of your data. What is a good proportion for your split? **Justify your answer.**\n",
    "\n",
    "Use the `tripduration` column as your `y` variable.\n",
    "\n",
    "For your `X` variables, use `age`, `usertype`, `gender`, and the dummy variables you created from `start station id`. (Hint: You may find the Pandas `.drop()` method helpful here.)\n",
    "\n",
    "**NOTE:** When doing your train/test split, please use random seed 123."
   ]
  },
  {
   "cell_type": "code",
   "execution_count": 12,
   "metadata": {},
   "outputs": [
    {
     "name": "stdout",
     "output_type": "stream",
     "text": [
      "float64\n",
      "object\n",
      "int64\n"
     ]
    }
   ],
   "source": [
    "# check for the data type for X variable\n",
    "print(citibike['age'].dtype)\n",
    "print(citibike['usertype'].dtype)\n",
    "print(citibike['gender'].dtype)"
   ]
  },
  {
   "cell_type": "code",
   "execution_count": 13,
   "metadata": {},
   "outputs": [],
   "source": [
    "#get_dummies for usertype because its not numeric column\n",
    "citibike = pd.get_dummies(citibike, columns = ['usertype'], drop_first = True)"
   ]
  },
  {
   "cell_type": "code",
   "execution_count": 14,
   "metadata": {},
   "outputs": [],
   "source": [
    "# drop the unnecessary column for X variable and drop the na from tripduration for Y\n",
    "X_train, X_test, y_train, y_test = train_test_split(citibike.dropna().drop(columns=['tripduration', 'birth year', 'bikeid',\n",
    "                                                                           'end station longitude', 'end station latitude',\n",
    "                                                                           'end station name', 'end station id',\n",
    "                                                                           'start station longitude', 'start station latitude',\n",
    "                                                                           'start station name', 'starttime', 'stoptime']),\n",
    "                                                    citibike.dropna()['tripduration'],\n",
    "                                                    test_size=0.2,\n",
    "                                                    random_state=123)"
   ]
  },
  {
   "cell_type": "markdown",
   "metadata": {},
   "source": [
    "## Fit a Linear Regression model in `sklearn` predicting `tripduration`."
   ]
  },
  {
   "cell_type": "code",
   "execution_count": 15,
   "metadata": {},
   "outputs": [],
   "source": [
    "# Instantiate the model.\n",
    "lr = LinearRegression()\n",
    "\n",
    "# Fit the model on the training data.\n",
    "lr.fit(X_train, y_train)\n",
    "\n",
    "# Step 3. Generate predictions.\n",
    "preds = lr.predict(X_test)"
   ]
  },
  {
   "cell_type": "markdown",
   "metadata": {},
   "source": [
    "## Evaluate your model\n",
    "Look at some evaluation metrics for **both** the training and test data. \n",
    "- How did your model do? Is it overfit, underfit, or neither?\n",
    "- Does this model outperform the baseline? (e.g. setting $\\hat{y}$ to be the mean of our training `y` values.)"
   ]
  },
  {
   "cell_type": "code",
   "execution_count": 16,
   "metadata": {},
   "outputs": [
    {
     "ename": "NameError",
     "evalue": "name 'model' is not defined",
     "output_type": "error",
     "traceback": [
      "\u001b[1;31m---------------------------------------------------------------------------\u001b[0m",
      "\u001b[1;31mNameError\u001b[0m                                 Traceback (most recent call last)",
      "Cell \u001b[1;32mIn[16], line 1\u001b[0m\n\u001b[1;32m----> 1\u001b[0m \u001b[38;5;28mprint\u001b[39m(\u001b[38;5;124mf\u001b[39m\u001b[38;5;124m'\u001b[39m\u001b[38;5;124mMSE on training set: \u001b[39m\u001b[38;5;132;01m{\u001b[39;00mmean_squared_error(y_train,\u001b[38;5;250m \u001b[39m\u001b[43mmodel\u001b[49m\u001b[38;5;241m.\u001b[39mpredict(X_train))\u001b[38;5;132;01m}\u001b[39;00m\u001b[38;5;124m'\u001b[39m)\n\u001b[0;32m      2\u001b[0m \u001b[38;5;28mprint\u001b[39m(\u001b[38;5;124mf\u001b[39m\u001b[38;5;124m'\u001b[39m\u001b[38;5;124mMSE on testing set: \u001b[39m\u001b[38;5;132;01m{\u001b[39;00mmean_squared_error(y_test,\u001b[38;5;250m \u001b[39mpreds)\u001b[38;5;132;01m}\u001b[39;00m\u001b[38;5;124m'\u001b[39m)\n",
      "\u001b[1;31mNameError\u001b[0m: name 'model' is not defined"
     ]
    }
   ],
   "source": [
    "print(f'MSE on training set: {mean_squared_error(y_train, model.predict(X_train))}')\n",
    "print(f'MSE on testing set: {mean_squared_error(y_test, preds)}')"
   ]
  },
  {
   "cell_type": "markdown",
   "metadata": {},
   "source": [
    "## Fit a Linear Regression model in `statsmodels` predicting `tripduration`."
   ]
  },
  {
   "cell_type": "code",
   "execution_count": null,
   "metadata": {},
   "outputs": [
    {
     "ename": "",
     "evalue": "",
     "output_type": "error",
     "traceback": [
      "\u001b[1;31mRunning cells with 'base' requires the ipykernel package.\n",
      "\u001b[1;31mRun the following command to install 'ipykernel' into the Python environment. \n",
      "\u001b[1;31mCommand: 'conda install -n base ipykernel --update-deps --force-reinstall'"
     ]
    }
   ],
   "source": []
  },
  {
   "cell_type": "markdown",
   "metadata": {},
   "source": [
    "## Using the `statsmodels` summary, test whether or not `age` has a significant effect when predicting `tripduration`.\n",
    "- Be sure to specify your null and alternative hypotheses, and to state your conclusion carefully and correctly **in the context of your model**!"
   ]
  },
  {
   "cell_type": "code",
   "execution_count": null,
   "metadata": {},
   "outputs": [
    {
     "ename": "",
     "evalue": "",
     "output_type": "error",
     "traceback": [
      "\u001b[1;31mRunning cells with 'base' requires the ipykernel package.\n",
      "\u001b[1;31mRun the following command to install 'ipykernel' into the Python environment. \n",
      "\u001b[1;31mCommand: 'conda install -n base ipykernel --update-deps --force-reinstall'"
     ]
    }
   ],
   "source": []
  },
  {
   "cell_type": "markdown",
   "metadata": {},
   "source": [
    "## Citi Bike is attempting to market to people who they think will ride their bike for a long time. Based on your modeling, what types of individuals should Citi Bike market toward?"
   ]
  },
  {
   "cell_type": "code",
   "execution_count": null,
   "metadata": {},
   "outputs": [
    {
     "ename": "",
     "evalue": "",
     "output_type": "error",
     "traceback": [
      "\u001b[1;31mRunning cells with 'base' requires the ipykernel package.\n",
      "\u001b[1;31mRun the following command to install 'ipykernel' into the Python environment. \n",
      "\u001b[1;31mCommand: 'conda install -n base ipykernel --update-deps --force-reinstall'"
     ]
    }
   ],
   "source": []
  }
 ],
 "metadata": {
  "anaconda-cloud": {},
  "kernelspec": {
   "display_name": "Python 3",
   "language": "python",
   "name": "python3"
  },
  "language_info": {
   "codemirror_mode": {
    "name": "ipython",
    "version": 3
   },
   "file_extension": ".py",
   "mimetype": "text/x-python",
   "name": "python",
   "nbconvert_exporter": "python",
   "pygments_lexer": "ipython3",
   "version": "3.11.8"
  }
 },
 "nbformat": 4,
 "nbformat_minor": 1
}
