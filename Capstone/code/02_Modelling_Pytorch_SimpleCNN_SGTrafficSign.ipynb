{
 "cells": [
  {
   "cell_type": "markdown",
   "metadata": {},
   "source": [
    "<img src=\"http://imgur.com/1ZcRyrc.png\" style=\"float: left; margin: 20px; height: 55px\">\n",
    "\n",
    "# Capstone Project - TheiaVision: Object Detection Technology for PMD Safety Alerts\n",
    "\n",
    "> Authors: Ng Wei\n",
    "---\n",
    "\n",
    "**Problem Statement:**  \n",
    "How can we enhance the safety of Personal Mobility Devices (PMDs) in urban environments by using object detection to improve PMD users' ability to perceive and respond to their surroundings?\n",
    "\n",
    "**Target Audience:**\n",
    "Management Team of PMD Maker\n",
    "\n",
    "**Summary:**\n",
    "This project aims to develop a object detection system to identifies obstacles such as pedestrians, vehicles, and traffic signs. By leveraging CNN algorithms YOLO model, this system would help Darren, a project manager, to lead the development of an alert system with object detection technology\n",
    "\n",
    "There are a total of three notebooks for this project:  \n",
    " 1. `01_EDA.ipynb`   \n",
    " 2. `02_Modelling_Pytorch_SimpleCNN_SGTrafficSign.ipynb`   \n",
    " 3. `03_Modelling_YOLOv8_labeled_SGTrafficSign.ipynb`\n",
    " 4. `04_Merge_MultiDataset.ipynb`\n",
    " 5. `05_Modelling_YOLOv8_combined_data.ipynb`\n",
    " 6. `06_YOLOv8_Hyperparameter_Tuning.ipynb`\n",
    "\n",
    "---\n",
    "**This Notebook**\n",
    "- We will look at the performace of Pytorch simple CNN with out Singapore Traffic Sign dataset."
   ]
  },
  {
   "cell_type": "markdown",
   "metadata": {},
   "source": [
    "# 2.1 Importing Libraries\n",
    "This section of the code is responsible for importing the necessary libraries that will be used in the program."
   ]
  },
  {
   "cell_type": "code",
   "execution_count": 1,
   "metadata": {},
   "outputs": [],
   "source": [
    "import os\n",
    "import time\n",
    "import torch\n",
    "import torch.nn as nn\n",
    "import torch.optim as optim\n",
    "from torch.utils.data import DataLoader\n",
    "from torchvision import datasets, transforms\n",
    "from torchvision.transforms import Compose"
   ]
  },
  {
   "cell_type": "markdown",
   "metadata": {},
   "source": [
    "# 2.2 Assigning file path\n",
    "\n",
    "This section of the code is responsible to specify the file path of Singapore Traffic Sign image data, each train and test data."
   ]
  },
  {
   "cell_type": "code",
   "execution_count": 2,
   "metadata": {},
   "outputs": [],
   "source": [
    "base_dir = ''\n",
    "base_img_folder = '../data/singapore_traffic_sign'\n",
    "train_img_folder = 'TRAIN'\n",
    "test_img_folder = 'TEST'\n",
    "\n",
    "dataset_dir = os.path.join(base_dir, base_img_folder)\n",
    "train_dir = os.path.join(dataset_dir, train_img_folder)\n",
    "test_dir = os.path.join(dataset_dir, test_img_folder)"
   ]
  },
  {
   "cell_type": "markdown",
   "metadata": {},
   "source": [
    "# 2.3 Pytorch Simple CNN Modelling\n",
    "Below section is to setup simple CNN using Pytorch framework.\n",
    "Unlike Tensorflow, Pytorch need to manual setup without keras library."
   ]
  },
  {
   "cell_type": "markdown",
   "metadata": {},
   "source": [
    "## 2.3.1 Model Setup"
   ]
  },
  {
   "cell_type": "markdown",
   "metadata": {},
   "source": [
    "This Python code is using the PyTorch library to prepare image data for training, validation, and testing of a Convolutional Neural Network (CNN).\n",
    "\n",
    "The first two blocks of code define transformations that will be applied to the images before they are used in the model. These transformations are used to standardize the images and sometimes to augment the data to improve model performance.\n",
    "\n",
    "The transform_train block is for the training data. It resizes all images to 50x50 pixels, applies a random affine transformation (which can include rotation, translation, and scaling), converts the images to PyTorch tensors, and normalizes the pixel values to be between -1 and 1 (assuming the original pixel values are between 0 and 1).\n",
    "\n",
    "The transform_test block is for the testing data. It resizes and normalizes the images in the same way as the training data, but does not apply the random affine transformation. This is because we want to test the model on the original images, not augmented versions of them.\n",
    "\n",
    "The datasets.ImageFolder lines create datasets from images in the specified directories (train_dir and test_dir). The images in these directories are loaded, and the transformations specified earlier are applied.\n",
    "\n",
    "Finally, the DataLoader lines create data loaders from the datasets. These data loaders are iterable objects that will yield batches of images and their corresponding labels when iterated over. The batch_size parameter specifies how many images to include in each batch. The shuffle parameter determines whether to shuffle the data before creating batches. The num_workers parameter specifies how many subprocesses to use for data loading. The more subprocesses, the faster the data can be loaded, but also the more memory that is used."
   ]
  },
  {
   "cell_type": "code",
   "execution_count": 3,
   "metadata": {},
   "outputs": [],
   "source": [
    "transform_train = transforms.Compose([\n",
    "    transforms.Resize((50, 50)),\n",
    "    transforms.RandomAffine(degrees=0.1, translate=(0.25, 0.25), scale=(0.75, 1.25)),\n",
    "    transforms.ToTensor(),\n",
    "    transforms.Normalize((0.5,), (0.5,))\n",
    "])\n",
    "\n",
    "transform_test = transforms.Compose([\n",
    "    transforms.Resize((50, 50)),\n",
    "    transforms.ToTensor(),\n",
    "    transforms.Normalize((0.5,), (0.5,))\n",
    "])\n",
    "\n",
    "train_dataset = datasets.ImageFolder(root=train_dir, transform=transform_train)\n",
    "validation_dataset = datasets.ImageFolder(root=train_dir, transform=transform_train)\n",
    "test_dataset = datasets.ImageFolder(root=test_dir, transform=transform_test)\n",
    "\n",
    "train_loader = DataLoader(train_dataset, batch_size=128, shuffle=True, num_workers=2)\n",
    "validation_loader = DataLoader(validation_dataset, batch_size=128, shuffle=False, num_workers=2)\n",
    "test_loader = DataLoader(test_dataset, batch_size=1, shuffle=False, num_workers=2)\n"
   ]
  },
  {
   "cell_type": "markdown",
   "metadata": {},
   "source": [
    "\n",
    "The below code defines a simple Convolutional Neural Network (CNN) using PyTorch's nn.Module. This CNN is designed for image classification tasks.\n",
    "\n",
    "The SimpleCNN class inherits from nn.Module, which is the base class for all neural network modules in PyTorch. This inheritance allows the SimpleCNN class to utilize PyTorch's built-in functionalities for neural networks.\n",
    "\n",
    "In the __init__ method, the layers of the neural network are defined. The super(SimpleCNN, self).__init__() line is calling the constructor of the parent class (nn.Module), which is necessary for the proper functioning of the network.\n",
    "\n",
    "The conv1 layer is a 2D convolutional layer with 3 input channels, 32 output channels, a kernel size of 3, and padding of 1. This layer is designed to detect features in the input images.\n",
    "\n",
    "The relu layer is a Rectified Linear Unit (ReLU) activation function. It introduces non-linearity into the model, allowing it to learn more complex patterns.\n",
    "\n",
    "The pool layer is a 2D max pooling layer with a kernel size of 2 and stride of 2. This layer reduces the spatial dimensions (height, width) of the input, which helps to control overfitting.\n",
    "\n",
    "The fc1 and fc2 layers are fully connected (dense) layers. The fc1 layer has 322525 input features and 32 output features. The fc2 layer has 32 input features and 7 output features. The output of fc2 represents the logits for each of the 7 classes that the model is designed to classify.\n",
    "\n",
    "In the forward method, the forward pass of the network is defined. The input x is passed through each layer in turn, with the output of one layer serving as the input to the next. The view function is used to flatten the output of the pooling layer before it is passed to the fc1 layer. The final output of the forward method is the logits for each class."
   ]
  },
  {
   "cell_type": "code",
   "execution_count": 4,
   "metadata": {},
   "outputs": [],
   "source": [
    "class SimpleCNN(nn.Module):\n",
    "    def __init__(self):\n",
    "        super(SimpleCNN, self).__init__()\n",
    "        # Define the layers of the model\n",
    "        self.conv1 = nn.Conv2d(in_channels=3, out_channels=32, kernel_size=3, padding=1)\n",
    "        self.relu = nn.ReLU()\n",
    "        self.pool = nn.MaxPool2d(kernel_size=2, stride=2)\n",
    "        # Adjust the size here appropriately based on your image input size\n",
    "        self.fc1 = nn.Linear(32 * 25 * 25, 32)  # Calculate the flattened size correctly\n",
    "        self.fc2 = nn.Linear(32, 7)  # Assuming 7 classes, adjust if different\n",
    "\n",
    "    def forward(self, x):\n",
    "        # Define the forward pass\n",
    "        x = self.pool(self.relu(self.conv1(x)))  # Convolution, ReLU activation, and Pooling\n",
    "        x = x.view(-1, 32 * 25 * 25)  # Flatten the output for the Dense layer\n",
    "        x = self.relu(self.fc1(x))  # First fully connected layer\n",
    "        x = self.fc2(x)  # Output logits directly\n",
    "        return x\n",
    "\n"
   ]
  },
  {
   "cell_type": "markdown",
   "metadata": {},
   "source": [
    "## 2.3.2 Mount Model on CUDA"
   ]
  },
  {
   "cell_type": "markdown",
   "metadata": {},
   "source": [
    "This Python code is part of a machine learning script using the PyTorch library. It's setting up a simple Convolutional Neural Network (CNN) model for training.\n",
    "\n",
    "The first line is checking if CUDA is available. CUDA is a parallel computing platform and API model created by NVIDIA, which allows developers to use NVIDIA GPUs for general purpose processing. The torch.device function is used to move tensors to and from GPU as required. If CUDA is available, it will use the GPU for processing, otherwise, it will default to the CPU.\n",
    "\n",
    "The second line is defining the model. SimpleCNN() is a user-defined class that presumably implements a simple Convolutional Neural Network. The details of this class are not shown in the provided code, but it would typically define the architecture of the neural network, including layers, activation functions, etc.\n",
    "\n",
    "The third line is moving the model to the chosen device (either GPU or CPU). The to(device) function is used to ensure that all the computations for the model will be done on the specified device.\n",
    "\n",
    "The fourth line is defining the optimizer. In this case, RMSprop (Root Mean Square Propagation) is used, which is a popular gradient descent optimization algorithm for deep learning networks. The model.parameters() function is used to pass all the trainable parameters of the model to the optimizer. The learning rate is set to 0.001.\n",
    "\n",
    "The fifth line is defining the loss function. In this case, Cross Entropy Loss is used, which is a common choice for classification problems. This function will compare the model's predictions with the true values and calculate a score that the model will attempt to minimize during training."
   ]
  },
  {
   "cell_type": "code",
   "execution_count": 5,
   "metadata": {},
   "outputs": [],
   "source": [
    "device = torch.device(\"cuda\" if torch.cuda.is_available() else \"cpu\")\n",
    "model = SimpleCNN()  # Define the model\n",
    "model.to(device)\n",
    "optimizer = optim.RMSprop(model.parameters(), lr=0.001)\n",
    "criterion = nn.CrossEntropyLoss()"
   ]
  },
  {
   "cell_type": "markdown",
   "metadata": {},
   "source": [
    "## 2.3.3 Modelling"
   ]
  },
  {
   "cell_type": "markdown",
   "metadata": {},
   "source": [
    "This Python code is part of a machine learning script using the PyTorch library. It's defining two functions, train_model and validate_model, and then calling train_model to train a Convolutional Neural Network (CNN) model.\n",
    "\n",
    "The train_model function is used to train the model. It takes four arguments: the model to be trained, the training data loader, the validation data loader, and the number of epochs to train for. An epoch is one complete pass through the entire training dataset. Inside the function, it first sets the model to training mode with model.train(). Then it loops over the number of epochs. For each epoch, it records the start time, then loops over the training data. For each batch of data, it moves the inputs and labels to the device (GPU or CPU), clears the gradients of all optimized variables, performs a forward pass (computes predicted outputs by passing inputs to the model), calculates the loss, performs a backward pass (computes gradient of the loss with respect to model parameters), and performs an optimization step (updates the model parameters). After each epoch, it prints out the loss and the time taken for that epoch, and calls validate_model to evaluate the model on the validation data.\n",
    "\n",
    "The validate_model function is used to evaluate the model. It takes two arguments: the model and the data loader. Inside the function, it first sets the model to evaluation mode with model.eval(). Then it initializes counters for the total number of items and the number of correct predictions. It loops over the data, and for each batch of data, it moves the inputs and labels to the device, performs a forward pass, gets the predictions by taking the index of the maximum value of the output tensor along dimension 1 (which gives the class with the highest predicted probability), increments the total count by the batch size, and increments the correct count by the number of correct predictions in the batch (where the predicted class equals the true class). After looping over all the data, it calculates and prints out the validation accuracy.\n",
    "\n",
    "Finally, the train_model function is called with the model, the training data loader, the validation data loader, and 50 epochs. This will train the model for 50 epochs, printing out the loss and time for each epoch and the validation accuracy after each epoch."
   ]
  },
  {
   "cell_type": "code",
   "execution_count": 6,
   "metadata": {},
   "outputs": [
    {
     "name": "stdout",
     "output_type": "stream",
     "text": [
      "Epoch 1, Loss: 2.217103958129883, Time: 0.4465951919555664s\n",
      "Validation Accuracy: 32.31492361927145%\n",
      "Epoch 2, Loss: 1.657037377357483, Time: 0.41130685806274414s\n",
      "Validation Accuracy: 30.19976498237368%\n",
      "Epoch 3, Loss: 1.4768717288970947, Time: 0.4237937927246094s\n",
      "Validation Accuracy: 42.068155111633374%\n",
      "Epoch 4, Loss: 1.270642876625061, Time: 0.43118858337402344s\n",
      "Validation Accuracy: 48.413631022326676%\n",
      "Epoch 5, Loss: 1.0846707820892334, Time: 0.43531107902526855s\n",
      "Validation Accuracy: 57.34430082256169%\n",
      "Epoch 6, Loss: 1.1072057485580444, Time: 0.4144728183746338s\n",
      "Validation Accuracy: 69.68272620446534%\n",
      "Epoch 7, Loss: 0.9026185274124146, Time: 0.4285907745361328s\n",
      "Validation Accuracy: 66.50998824911868%\n",
      "Epoch 8, Loss: 0.7488252520561218, Time: 0.4291517734527588s\n",
      "Validation Accuracy: 70.62279670975323%\n",
      "Epoch 9, Loss: 0.7401230335235596, Time: 0.41219568252563477s\n",
      "Validation Accuracy: 74.14806110458284%\n",
      "Epoch 10, Loss: 0.7530925869941711, Time: 0.414872407913208s\n",
      "Validation Accuracy: 73.32549941245594%\n",
      "Epoch 11, Loss: 0.7229635119438171, Time: 0.40851664543151855s\n",
      "Validation Accuracy: 66.3924794359577%\n",
      "Epoch 12, Loss: 0.6942097544670105, Time: 0.4225771427154541s\n",
      "Validation Accuracy: 79.0834312573443%\n",
      "Epoch 13, Loss: 0.6796360015869141, Time: 0.4152381420135498s\n",
      "Validation Accuracy: 77.08578143360752%\n",
      "Epoch 14, Loss: 0.5659410357475281, Time: 0.4134800434112549s\n",
      "Validation Accuracy: 76.26321974148061%\n",
      "Epoch 15, Loss: 0.5674164295196533, Time: 0.4176034927368164s\n",
      "Validation Accuracy: 83.31374853113984%\n",
      "Epoch 16, Loss: 0.5758098363876343, Time: 0.4090588092803955s\n",
      "Validation Accuracy: 78.61339600470035%\n",
      "Epoch 17, Loss: 0.6739569902420044, Time: 0.4232194423675537s\n",
      "Validation Accuracy: 84.37132784958872%\n",
      "Epoch 18, Loss: 0.5047550797462463, Time: 0.41496849060058594s\n",
      "Validation Accuracy: 84.84136310223266%\n",
      "Epoch 19, Loss: 0.5157055854797363, Time: 0.43184852600097656s\n",
      "Validation Accuracy: 82.49118683901293%\n",
      "Epoch 20, Loss: 0.4060078263282776, Time: 0.4327127933502197s\n",
      "Validation Accuracy: 78.49588719153937%\n",
      "Epoch 21, Loss: 0.42231032252311707, Time: 0.4249255657196045s\n",
      "Validation Accuracy: 82.37367802585194%\n",
      "Epoch 22, Loss: 0.33408457040786743, Time: 0.4165151119232178s\n",
      "Validation Accuracy: 85.07638072855464%\n",
      "Epoch 23, Loss: 0.41327965259552, Time: 0.4191558361053467s\n",
      "Validation Accuracy: 85.54641598119859%\n",
      "Epoch 24, Loss: 0.35396823287010193, Time: 0.43111109733581543s\n",
      "Validation Accuracy: 86.60399529964748%\n",
      "Epoch 25, Loss: 0.26301175355911255, Time: 0.43119025230407715s\n",
      "Validation Accuracy: 86.72150411280846%\n",
      "Epoch 26, Loss: 0.3320697546005249, Time: 0.4050896167755127s\n",
      "Validation Accuracy: 89.54171562867215%\n",
      "Epoch 27, Loss: 0.3889961838722229, Time: 0.4386131763458252s\n",
      "Validation Accuracy: 91.18683901292597%\n",
      "Epoch 28, Loss: 0.3900991380214691, Time: 0.41788315773010254s\n",
      "Validation Accuracy: 88.60164512338426%\n",
      "Epoch 29, Loss: 0.3510204553604126, Time: 0.4075453281402588s\n",
      "Validation Accuracy: 85.19388954171563%\n",
      "Epoch 30, Loss: 0.31033867597579956, Time: 0.43579864501953125s\n",
      "Validation Accuracy: 90.36427732079906%\n",
      "Epoch 31, Loss: 0.37211868166923523, Time: 0.44022107124328613s\n",
      "Validation Accuracy: 85.89894242068155%\n",
      "Epoch 32, Loss: 0.38162335753440857, Time: 0.42338132858276367s\n",
      "Validation Accuracy: 90.24676850763807%\n",
      "Epoch 33, Loss: 0.4575810730457306, Time: 0.42430830001831055s\n",
      "Validation Accuracy: 90.59929494712104%\n",
      "Epoch 34, Loss: 0.3218224346637726, Time: 0.4153580665588379s\n",
      "Validation Accuracy: 90.83431257344301%\n",
      "Epoch 35, Loss: 0.3075222074985504, Time: 0.4309380054473877s\n",
      "Validation Accuracy: 90.951821386604%\n",
      "Epoch 36, Loss: 0.19132249057292938, Time: 0.42546725273132324s\n",
      "Validation Accuracy: 90.48178613396004%\n",
      "Epoch 37, Loss: 0.2654816806316376, Time: 0.41242218017578125s\n",
      "Validation Accuracy: 88.95417156286722%\n",
      "Epoch 38, Loss: 0.20837843418121338, Time: 0.425905704498291s\n",
      "Validation Accuracy: 92.36192714453584%\n",
      "Epoch 39, Loss: 0.18161660432815552, Time: 0.39989137649536133s\n",
      "Validation Accuracy: 90.48178613396004%\n",
      "Epoch 40, Loss: 0.20966288447380066, Time: 0.43042707443237305s\n",
      "Validation Accuracy: 91.42185663924795%\n",
      "Epoch 41, Loss: 0.28494346141815186, Time: 0.42273592948913574s\n",
      "Validation Accuracy: 93.06698002350176%\n",
      "Epoch 42, Loss: 0.2697441279888153, Time: 0.4069557189941406s\n",
      "Validation Accuracy: 91.7743830787309%\n",
      "Epoch 43, Loss: 0.23781424760818481, Time: 0.4183814525604248s\n",
      "Validation Accuracy: 92.36192714453584%\n",
      "Epoch 44, Loss: 0.23937620222568512, Time: 0.4380073547363281s\n",
      "Validation Accuracy: 92.24441833137486%\n",
      "Epoch 45, Loss: 0.2133598029613495, Time: 0.43950366973876953s\n",
      "Validation Accuracy: 91.65687426556991%\n",
      "Epoch 46, Loss: 0.24692286550998688, Time: 0.41750288009643555s\n",
      "Validation Accuracy: 92.59694477085782%\n",
      "Epoch 47, Loss: 0.21444134414196014, Time: 0.41895246505737305s\n",
      "Validation Accuracy: 90.12925969447708%\n",
      "Epoch 48, Loss: 0.21427421271800995, Time: 0.41805219650268555s\n",
      "Validation Accuracy: 94.4770857814336%\n",
      "Epoch 49, Loss: 0.1993793547153473, Time: 0.419724702835083s\n",
      "Validation Accuracy: 92.36192714453584%\n",
      "Epoch 50, Loss: 0.15498946607112885, Time: 0.42131614685058594s\n",
      "Validation Accuracy: 92.7144535840188%\n"
     ]
    }
   ],
   "source": [
    "def train_model(model, train_loader, validation_loader, epochs):\n",
    "    model.train()\n",
    "    for epoch in range(epochs):\n",
    "        start = time.time()\n",
    "        for inputs, labels in train_loader:\n",
    "            inputs, labels = inputs.to(device), labels.to(device)\n",
    "            optimizer.zero_grad()\n",
    "            outputs = model(inputs)\n",
    "            loss = criterion(outputs, labels)\n",
    "            loss.backward()\n",
    "            optimizer.step()\n",
    "        end = time.time()\n",
    "        print(f'Epoch {epoch+1}, Loss: {loss.item()}, Time: {end - start}s')\n",
    "\n",
    "        validate_model(model, validation_loader)\n",
    "\n",
    "def validate_model(model, loader):\n",
    "    model.eval()\n",
    "    total = 0\n",
    "    correct = 0\n",
    "    with torch.no_grad():\n",
    "        for inputs, labels in loader:\n",
    "            inputs, labels = inputs.to(device), labels.to(device)\n",
    "            outputs = model(inputs)\n",
    "            _, predicted = torch.max(outputs.data, 1)\n",
    "            total += labels.size(0)\n",
    "            correct += (predicted == labels).sum().item()\n",
    "    print(f'Validation Accuracy: {100 * correct / total}%')\n",
    "\n",
    "train_model(model, train_loader, validation_loader, 50)\n"
   ]
  },
  {
   "cell_type": "markdown",
   "metadata": {},
   "source": [
    "## 2.3.4 Model Result"
   ]
  },
  {
   "cell_type": "markdown",
   "metadata": {},
   "source": [
    "Below code show the model accuracy and loss function"
   ]
  },
  {
   "cell_type": "code",
   "execution_count": 7,
   "metadata": {},
   "outputs": [
    {
     "name": "stdout",
     "output_type": "stream",
     "text": [
      "Test Loss: 0.6306\n",
      "Test Accuracy: 85.06%\n"
     ]
    }
   ],
   "source": [
    "import numpy as np\n",
    "from sklearn.metrics import confusion_matrix\n",
    "def evaluate_model(model, test_loader, criterion):\n",
    "    model.eval()  # Set the model to evaluation mode\n",
    "    total = 0\n",
    "    correct = 0\n",
    "    total_loss = 0.0\n",
    "\n",
    "    with torch.no_grad():  # Temporarily set all the requires_grad flag to false\n",
    "        for inputs, labels in test_loader:\n",
    "            inputs, labels = inputs.to(device), labels.to(device)\n",
    "            outputs = model(inputs)\n",
    "            loss = criterion(outputs, labels)\n",
    "            total_loss += loss.item()\n",
    "            _, predicted = torch.max(outputs.data, 1)\n",
    "            total += labels.size(0)\n",
    "            correct += (predicted == labels).sum().item()\n",
    "\n",
    "    average_loss = total_loss / len(test_loader)\n",
    "    accuracy = 100 * correct / total\n",
    "    print(f'Test Loss: {average_loss:.4f}')\n",
    "    print(f'Test Accuracy: {accuracy:.2f}%')\n",
    "\n",
    "# Assuming the model, test_loader and criterion are already defined and initialized\n",
    "evaluate_model(model, test_loader, criterion)"
   ]
  },
  {
   "cell_type": "markdown",
   "metadata": {},
   "source": [
    "Below code show the model accuracy and loss function"
   ]
  },
  {
   "cell_type": "code",
   "execution_count": 8,
   "metadata": {},
   "outputs": [
    {
     "data": {
      "image/png": "[encoded data removed]",
      "text/plain": [
       "<Figure size 1000x700 with 2 Axes>"
      ]
     },
     "metadata": {},
     "output_type": "display_data"
    }
   ],
   "source": [
    "import torch\n",
    "from sklearn.metrics import confusion_matrix\n",
    "import seaborn as sns\n",
    "import matplotlib.pyplot as plt\n",
    "\n",
    "def get_predictions_and_labels(model, loader):\n",
    "    all_preds = []\n",
    "    all_labels = []\n",
    "    model.eval()\n",
    "    with torch.no_grad():\n",
    "        for images, labels in loader:\n",
    "            images = images.to(device)  # Ensure images are on the same device as model\n",
    "            outputs = model(images)\n",
    "            _, preds = torch.max(outputs, 1)\n",
    "            all_preds.extend(preds.cpu().numpy())  # Move predictions to CPU and convert to numpy\n",
    "            all_labels.extend(labels.cpu().numpy())  # Move labels to CPU and convert to numpy\n",
    "    return all_preds, all_labels\n",
    "\n",
    "# Assuming test_loader is defined and properly set up\n",
    "predictions, labels = get_predictions_and_labels(model, test_loader)\n",
    "\n",
    "# Normalizing the confusion matrix by the true (rows) condition\n",
    "cm = confusion_matrix(labels, predictions, normalize='true')\n",
    "\n",
    "sns.set(font_scale=1.4)  # for label size\n",
    "plt.figure(figsize=(10, 7))\n",
    "sns.heatmap(cm, annot=True, annot_kws={\"size\": 16}, fmt=\".2f\", cmap='Blues')  # font size and format\n",
    "plt.xlabel('Predicted labels')\n",
    "plt.ylabel('True labels')\n",
    "plt.title('Normalized Confusion Matrix')\n",
    "plt.show()"
   ]
  }
 ],
 "metadata": {
  "kernelspec": {
   "display_name": "py311",
   "language": "python",
   "name": "python3"
  },
  "language_info": {
   "codemirror_mode": {
    "name": "ipython",
    "version": 3
   },
   "file_extension": ".py",
   "mimetype": "text/x-python",
   "name": "python",
   "nbconvert_exporter": "python",
   "pygments_lexer": "ipython3",
   "version": "3.11.8"
  }
 },
 "nbformat": 4,
 "nbformat_minor": 2
}
